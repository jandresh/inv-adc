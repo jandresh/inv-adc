{
 "cells": [
  {
   "cell_type": "code",
   "execution_count": null,
   "id": "15123f65-e02e-4cfb-b109-18e4266c3d17",
   "metadata": {},
   "outputs": [
    {
     "ename": "",
     "evalue": "",
     "output_type": "error",
     "traceback": [
      "\u001b[1;31mRunning cells with 'Python 3.10.6 64-bit' requires ipykernel package.\n",
      "\u001b[1;31mRun the following command to install 'ipykernel' into the Python environment. \n",
      "\u001b[1;31mCommand: '/nix/store/cxqgaqk4al0sfrqvzmqzy4vrh5wc3hrh-common-okta-login/bin/python -m pip install ipykernel -U --user --force-reinstall'"
     ]
    }
   ],
   "source": [
    "import networkx as nx\n",
    "G = nx.Graph()"
   ]
  },
  {
   "cell_type": "code",
   "execution_count": null,
   "id": "db379c8c-4673-4048-a656-38222ac04d70",
   "metadata": {},
   "outputs": [
    {
     "ename": "",
     "evalue": "",
     "output_type": "error",
     "traceback": [
      "\u001b[1;31mRunning cells with 'Python 3.10.6 64-bit' requires ipykernel package.\n",
      "\u001b[1;31mRun the following command to install 'ipykernel' into the Python environment. \n",
      "\u001b[1;31mCommand: '/nix/store/cxqgaqk4al0sfrqvzmqzy4vrh5wc3hrh-common-okta-login/bin/python -m pip install ipykernel -U --user --force-reinstall'"
     ]
    }
   ],
   "source": [
    "G.add_node(1)\n",
    "G.add_nodes_from([2, 3])\n",
    "G.add_nodes_from([\n",
    "    (4, {\"color\": \"red\"}),\n",
    "    (5, {\"color\": \"green\"}),\n",
    "])"
   ]
  },
  {
   "cell_type": "code",
   "execution_count": null,
   "id": "a507de1f-94fa-4cc8-b2f0-d97c13a91a48",
   "metadata": {},
   "outputs": [
    {
     "ename": "",
     "evalue": "",
     "output_type": "error",
     "traceback": [
      "\u001b[1;31mRunning cells with 'Python 3.10.6 64-bit' requires ipykernel package.\n",
      "\u001b[1;31mRun the following command to install 'ipykernel' into the Python environment. \n",
      "\u001b[1;31mCommand: '/nix/store/cxqgaqk4al0sfrqvzmqzy4vrh5wc3hrh-common-okta-login/bin/python -m pip install ipykernel -U --user --force-reinstall'"
     ]
    }
   ],
   "source": [
    "H = nx.path_graph(10)\n",
    "G.add_nodes_from(H)"
   ]
  },
  {
   "cell_type": "code",
   "execution_count": null,
   "id": "ac8b7a75-118a-4ce9-abb2-dbec893811ba",
   "metadata": {},
   "outputs": [
    {
     "ename": "",
     "evalue": "",
     "output_type": "error",
     "traceback": [
      "\u001b[1;31mRunning cells with 'Python 3.10.6 64-bit' requires ipykernel package.\n",
      "\u001b[1;31mRun the following command to install 'ipykernel' into the Python environment. \n",
      "\u001b[1;31mCommand: '/nix/store/cxqgaqk4al0sfrqvzmqzy4vrh5wc3hrh-common-okta-login/bin/python -m pip install ipykernel -U --user --force-reinstall'"
     ]
    }
   ],
   "source": [
    "G.add_node(H)"
   ]
  },
  {
   "cell_type": "code",
   "execution_count": null,
   "id": "b4d9eb74-7448-4d63-81db-27debbdff695",
   "metadata": {},
   "outputs": [
    {
     "ename": "",
     "evalue": "",
     "output_type": "error",
     "traceback": [
      "\u001b[1;31mRunning cells with 'Python 3.10.6 64-bit' requires ipykernel package.\n",
      "\u001b[1;31mRun the following command to install 'ipykernel' into the Python environment. \n",
      "\u001b[1;31mCommand: '/nix/store/cxqgaqk4al0sfrqvzmqzy4vrh5wc3hrh-common-okta-login/bin/python -m pip install ipykernel -U --user --force-reinstall'"
     ]
    }
   ],
   "source": [
    "G.add_edge(1, 2)\n",
    "e = (2, 3)\n",
    "G.add_edge(*e)  # unpack edge tuple*"
   ]
  },
  {
   "cell_type": "code",
   "execution_count": null,
   "id": "cd8b5c13-df93-4dd4-9cb1-b3e8ebcc3fc8",
   "metadata": {},
   "outputs": [
    {
     "ename": "",
     "evalue": "",
     "output_type": "error",
     "traceback": [
      "\u001b[1;31mRunning cells with 'Python 3.10.6 64-bit' requires ipykernel package.\n",
      "\u001b[1;31mRun the following command to install 'ipykernel' into the Python environment. \n",
      "\u001b[1;31mCommand: '/nix/store/cxqgaqk4al0sfrqvzmqzy4vrh5wc3hrh-common-okta-login/bin/python -m pip install ipykernel -U --user --force-reinstall'"
     ]
    }
   ],
   "source": [
    "print(*e)"
   ]
  },
  {
   "cell_type": "code",
   "execution_count": null,
   "id": "12e4983e-6d1a-473a-a7d8-988486e788b3",
   "metadata": {},
   "outputs": [
    {
     "ename": "",
     "evalue": "",
     "output_type": "error",
     "traceback": [
      "\u001b[1;31mRunning cells with 'Python 3.10.6 64-bit' requires ipykernel package.\n",
      "\u001b[1;31mRun the following command to install 'ipykernel' into the Python environment. \n",
      "\u001b[1;31mCommand: '/nix/store/cxqgaqk4al0sfrqvzmqzy4vrh5wc3hrh-common-okta-login/bin/python -m pip install ipykernel -U --user --force-reinstall'"
     ]
    }
   ],
   "source": [
    "G.add_edges_from([(1, 2), (1, 3)])"
   ]
  },
  {
   "cell_type": "code",
   "execution_count": null,
   "id": "d44f19d1-17ca-46aa-877f-5588924e9092",
   "metadata": {},
   "outputs": [
    {
     "ename": "",
     "evalue": "",
     "output_type": "error",
     "traceback": [
      "\u001b[1;31mRunning cells with 'Python 3.10.6 64-bit' requires ipykernel package.\n",
      "\u001b[1;31mRun the following command to install 'ipykernel' into the Python environment. \n",
      "\u001b[1;31mCommand: '/nix/store/cxqgaqk4al0sfrqvzmqzy4vrh5wc3hrh-common-okta-login/bin/python -m pip install ipykernel -U --user --force-reinstall'"
     ]
    }
   ],
   "source": [
    "G.add_edges_from(H.edges)"
   ]
  },
  {
   "cell_type": "code",
   "execution_count": null,
   "id": "3b6d320d-762d-459f-88e3-16f6c5038cd3",
   "metadata": {},
   "outputs": [
    {
     "ename": "",
     "evalue": "",
     "output_type": "error",
     "traceback": [
      "\u001b[1;31mRunning cells with 'Python 3.10.6 64-bit' requires ipykernel package.\n",
      "\u001b[1;31mRun the following command to install 'ipykernel' into the Python environment. \n",
      "\u001b[1;31mCommand: '/nix/store/cxqgaqk4al0sfrqvzmqzy4vrh5wc3hrh-common-okta-login/bin/python -m pip install ipykernel -U --user --force-reinstall'"
     ]
    }
   ],
   "source": [
    "G.number_of_nodes()"
   ]
  },
  {
   "cell_type": "code",
   "execution_count": null,
   "id": "72b79707-4d82-4b93-9138-2e4967e54de5",
   "metadata": {},
   "outputs": [
    {
     "ename": "",
     "evalue": "",
     "output_type": "error",
     "traceback": [
      "\u001b[1;31mRunning cells with 'Python 3.10.6 64-bit' requires ipykernel package.\n",
      "\u001b[1;31mRun the following command to install 'ipykernel' into the Python environment. \n",
      "\u001b[1;31mCommand: '/nix/store/cxqgaqk4al0sfrqvzmqzy4vrh5wc3hrh-common-okta-login/bin/python -m pip install ipykernel -U --user --force-reinstall'"
     ]
    }
   ],
   "source": [
    "G.number_of_edges()"
   ]
  },
  {
   "cell_type": "code",
   "execution_count": null,
   "id": "5e384957-e464-4022-ae77-e14fd1363edc",
   "metadata": {},
   "outputs": [
    {
     "ename": "",
     "evalue": "",
     "output_type": "error",
     "traceback": [
      "\u001b[1;31mRunning cells with 'Python 3.10.6 64-bit' requires ipykernel package.\n",
      "\u001b[1;31mRun the following command to install 'ipykernel' into the Python environment. \n",
      "\u001b[1;31mCommand: '/nix/store/cxqgaqk4al0sfrqvzmqzy4vrh5wc3hrh-common-okta-login/bin/python -m pip install ipykernel -U --user --force-reinstall'"
     ]
    }
   ],
   "source": [
    "list(G.nodes)"
   ]
  },
  {
   "cell_type": "code",
   "execution_count": null,
   "id": "5bdb4f40-9dec-4316-b550-3d192e6c4d7b",
   "metadata": {},
   "outputs": [
    {
     "ename": "",
     "evalue": "",
     "output_type": "error",
     "traceback": [
      "\u001b[1;31mRunning cells with 'Python 3.10.6 64-bit' requires ipykernel package.\n",
      "\u001b[1;31mRun the following command to install 'ipykernel' into the Python environment. \n",
      "\u001b[1;31mCommand: '/nix/store/cxqgaqk4al0sfrqvzmqzy4vrh5wc3hrh-common-okta-login/bin/python -m pip install ipykernel -U --user --force-reinstall'"
     ]
    }
   ],
   "source": [
    "import matplotlib.pyplot as plt"
   ]
  },
  {
   "cell_type": "code",
   "execution_count": null,
   "id": "af8963d0-a142-4ab1-baef-5c1a3110bfdd",
   "metadata": {},
   "outputs": [
    {
     "ename": "",
     "evalue": "",
     "output_type": "error",
     "traceback": [
      "\u001b[1;31mRunning cells with 'Python 3.10.6 64-bit' requires ipykernel package.\n",
      "\u001b[1;31mRun the following command to install 'ipykernel' into the Python environment. \n",
      "\u001b[1;31mCommand: '/nix/store/cxqgaqk4al0sfrqvzmqzy4vrh5wc3hrh-common-okta-login/bin/python -m pip install ipykernel -U --user --force-reinstall'"
     ]
    }
   ],
   "source": [
    "G = nx.petersen_graph()\n",
    "subax1 = plt.subplot(121)\n",
    "nx.draw(G, with_labels=True, font_weight='bold')\n",
    "subax2 = plt.subplot(122)\n",
    "nx.draw_shell(G, nlist=[range(5, 10), range(5)], with_labels=True, font_weight='bold')"
   ]
  },
  {
   "cell_type": "code",
   "execution_count": null,
   "id": "49643076-7433-4337-8d1d-0d42bc40c1cf",
   "metadata": {},
   "outputs": [
    {
     "ename": "",
     "evalue": "",
     "output_type": "error",
     "traceback": [
      "\u001b[1;31mRunning cells with 'Python 3.10.6 64-bit' requires ipykernel package.\n",
      "\u001b[1;31mRun the following command to install 'ipykernel' into the Python environment. \n",
      "\u001b[1;31mCommand: '/nix/store/cxqgaqk4al0sfrqvzmqzy4vrh5wc3hrh-common-okta-login/bin/python -m pip install ipykernel -U --user --force-reinstall'"
     ]
    }
   ],
   "source": [
    "options = {\n",
    "    'node_color': 'black',\n",
    "    'node_size': 100,\n",
    "    'width': 3,\n",
    "}\n",
    "subax1 = plt.subplot(221)\n",
    "nx.draw_random(G, **options)\n",
    "subax2 = plt.subplot(222)\n",
    "nx.draw_circular(G, **options)\n",
    "subax3 = plt.subplot(223)\n",
    "nx.draw_spectral(G, **options)\n",
    "subax4 = plt.subplot(224)\n",
    "nx.draw_shell(G, nlist=[range(5,10), range(5)], **options)"
   ]
  },
  {
   "cell_type": "code",
   "execution_count": null,
   "id": "60a29beb-7c3c-4ce3-8d8d-9af07dce8377",
   "metadata": {},
   "outputs": [
    {
     "ename": "",
     "evalue": "",
     "output_type": "error",
     "traceback": [
      "\u001b[1;31mRunning cells with 'Python 3.10.6 64-bit' requires ipykernel package.\n",
      "\u001b[1;31mRun the following command to install 'ipykernel' into the Python environment. \n",
      "\u001b[1;31mCommand: '/nix/store/cxqgaqk4al0sfrqvzmqzy4vrh5wc3hrh-common-okta-login/bin/python -m pip install ipykernel -U --user --force-reinstall'"
     ]
    }
   ],
   "source": [
    "import json\n",
    "with open(\"gui/src/pages/Dashboard/authors_global.json\") as json_file:\n",
    "    d = json.load(json_file)\n",
    "    print(d[0].keys())"
   ]
  },
  {
   "cell_type": "code",
   "execution_count": null,
   "id": "48d079f8-0454-4b51-a4e9-22b494e162f9",
   "metadata": {},
   "outputs": [
    {
     "ename": "",
     "evalue": "",
     "output_type": "error",
     "traceback": [
      "\u001b[1;31mRunning cells with 'Python 3.10.6 64-bit' requires ipykernel package.\n",
      "\u001b[1;31mRun the following command to install 'ipykernel' into the Python environment. \n",
      "\u001b[1;31mCommand: '/nix/store/cxqgaqk4al0sfrqvzmqzy4vrh5wc3hrh-common-okta-login/bin/python -m pip install ipykernel -U --user --force-reinstall'"
     ]
    }
   ],
   "source": [
    "d = json.dumps(nx.node_link_data(G))"
   ]
  },
  {
   "cell_type": "code",
   "execution_count": null,
   "id": "ad6e743d-6c1b-42f7-bef3-a7a02a876e2d",
   "metadata": {},
   "outputs": [
    {
     "ename": "",
     "evalue": "",
     "output_type": "error",
     "traceback": [
      "\u001b[1;31mRunning cells with 'Python 3.10.6 64-bit' requires ipykernel package.\n",
      "\u001b[1;31mRun the following command to install 'ipykernel' into the Python environment. \n",
      "\u001b[1;31mCommand: '/nix/store/cxqgaqk4al0sfrqvzmqzy4vrh5wc3hrh-common-okta-login/bin/python -m pip install ipykernel -U --user --force-reinstall'"
     ]
    }
   ],
   "source": [
    "print(d)"
   ]
  },
  {
   "cell_type": "code",
   "execution_count": null,
   "id": "9cae863c-2b9e-445a-be70-3cd6ec2f300d",
   "metadata": {},
   "outputs": [
    {
     "ename": "",
     "evalue": "",
     "output_type": "error",
     "traceback": [
      "\u001b[1;31mRunning cells with 'Python 3.10.6 64-bit' requires ipykernel package.\n",
      "\u001b[1;31mRun the following command to install 'ipykernel' into the Python environment. \n",
      "\u001b[1;31mCommand: '/nix/store/cxqgaqk4al0sfrqvzmqzy4vrh5wc3hrh-common-okta-login/bin/python -m pip install ipykernel -U --user --force-reinstall'"
     ]
    }
   ],
   "source": [
    "json_file = open(\"gui/src/pages/Dashboard/authors_global.json\")"
   ]
  },
  {
   "cell_type": "code",
   "execution_count": null,
   "id": "f5c4b2c1-e6fe-440f-b969-03bb5d3b7660",
   "metadata": {},
   "outputs": [
    {
     "ename": "",
     "evalue": "",
     "output_type": "error",
     "traceback": [
      "\u001b[1;31mRunning cells with 'Python 3.10.6 64-bit' requires ipykernel package.\n",
      "\u001b[1;31mRun the following command to install 'ipykernel' into the Python environment. \n",
      "\u001b[1;31mCommand: '/nix/store/cxqgaqk4al0sfrqvzmqzy4vrh5wc3hrh-common-okta-login/bin/python -m pip install ipykernel -U --user --force-reinstall'"
     ]
    }
   ],
   "source": [
    "graph_data = json.load(json_file)[0]['graph_data']"
   ]
  },
  {
   "cell_type": "code",
   "execution_count": null,
   "id": "7f7e58ff-7d3f-4234-abba-d253496e2837",
   "metadata": {},
   "outputs": [
    {
     "ename": "",
     "evalue": "",
     "output_type": "error",
     "traceback": [
      "\u001b[1;31mRunning cells with 'Python 3.10.6 64-bit' requires ipykernel package.\n",
      "\u001b[1;31mRun the following command to install 'ipykernel' into the Python environment. \n",
      "\u001b[1;31mCommand: '/nix/store/cxqgaqk4al0sfrqvzmqzy4vrh5wc3hrh-common-okta-login/bin/python -m pip install ipykernel -U --user --force-reinstall'"
     ]
    }
   ],
   "source": [
    "data = {\n",
    "    \"directed\": False, \n",
    "    \"multigraph\": False, \n",
    "    \"graph\": {\"name\": \"Petersen Graph\"}, \n",
    "    \"nodes\": graph_data['nodes'],\n",
    "    \"links\": graph_data['links']\n",
    "}"
   ]
  },
  {
   "cell_type": "code",
   "execution_count": null,
   "id": "95ad8b1d-1fb5-42e7-b050-3739c049be85",
   "metadata": {},
   "outputs": [
    {
     "ename": "",
     "evalue": "",
     "output_type": "error",
     "traceback": [
      "\u001b[1;31mRunning cells with 'Python 3.10.6 64-bit' requires ipykernel package.\n",
      "\u001b[1;31mRun the following command to install 'ipykernel' into the Python environment. \n",
      "\u001b[1;31mCommand: '/nix/store/cxqgaqk4al0sfrqvzmqzy4vrh5wc3hrh-common-okta-login/bin/python -m pip install ipykernel -U --user --force-reinstall'"
     ]
    }
   ],
   "source": [
    "H = nx.node_link_graph(data)"
   ]
  },
  {
   "cell_type": "code",
   "execution_count": null,
   "id": "30e42c6a-53b4-4295-a1a0-36ac2367d1b1",
   "metadata": {},
   "outputs": [
    {
     "ename": "",
     "evalue": "",
     "output_type": "error",
     "traceback": [
      "\u001b[1;31mRunning cells with 'Python 3.10.6 64-bit' requires ipykernel package.\n",
      "\u001b[1;31mRun the following command to install 'ipykernel' into the Python environment. \n",
      "\u001b[1;31mCommand: '/nix/store/cxqgaqk4al0sfrqvzmqzy4vrh5wc3hrh-common-okta-login/bin/python -m pip install ipykernel -U --user --force-reinstall'"
     ]
    }
   ],
   "source": [
    "nx.draw(H, with_labels=True, font_weight='bold')"
   ]
  },
  {
   "cell_type": "code",
   "execution_count": null,
   "id": "5444d8f5-a338-4996-b7d7-a9c0cb571f6b",
   "metadata": {},
   "outputs": [
    {
     "ename": "",
     "evalue": "",
     "output_type": "error",
     "traceback": [
      "\u001b[1;31mRunning cells with 'Python 3.10.6 64-bit' requires ipykernel package.\n",
      "\u001b[1;31mRun the following command to install 'ipykernel' into the Python environment. \n",
      "\u001b[1;31mCommand: '/nix/store/cxqgaqk4al0sfrqvzmqzy4vrh5wc3hrh-common-okta-login/bin/python -m pip install ipykernel -U --user --force-reinstall'"
     ]
    }
   ],
   "source": [
    "nx.write_graph6(H, 'authors_global.g6')"
   ]
  },
  {
   "cell_type": "code",
   "execution_count": null,
   "id": "f6611924",
   "metadata": {},
   "outputs": [
    {
     "ename": "",
     "evalue": "",
     "output_type": "error",
     "traceback": [
      "\u001b[1;31mRunning cells with 'Python 3.10.6 64-bit' requires ipykernel package.\n",
      "\u001b[1;31mRun the following command to install 'ipykernel' into the Python environment. \n",
      "\u001b[1;31mCommand: '/nix/store/cxqgaqk4al0sfrqvzmqzy4vrh5wc3hrh-common-okta-login/bin/python -m pip install ipykernel -U --user --force-reinstall'"
     ]
    }
   ],
   "source": [
    "class CustomBaseException(Exception):\n",
    "    pass\n",
    "\n",
    "class InvalidFieldLength(CustomBaseException):\n",
    "    \"\"\"Exception to control invalid field length in forms\"\"\"\n",
    "\n",
    "    def __init__(self) -> None:\n",
    "        \"\"\"Constructor\"\"\"\n",
    "        msg = \"Exception - Invalid field length in form\"\n",
    "        super(InvalidFieldLength, self).__init__(msg)\n",
    "\n",
    "def validate_field_length(\n",
    "    field: str, limit: int, is_greater_than_limit: bool = False\n",
    ") -> bool:\n",
    "    \"\"\"\n",
    "    if is_greater_than_limit equals True,\n",
    "    it means we are checking if field > limit\n",
    "    \"\"\"\n",
    "    if field is None or ((len(field) > limit) != is_greater_than_limit):\n",
    "        raise InvalidFieldLength()\n",
    "    return True"
   ]
  },
  {
   "cell_type": "code",
   "execution_count": null,
   "id": "719bd379",
   "metadata": {},
   "outputs": [
    {
     "ename": "",
     "evalue": "",
     "output_type": "error",
     "traceback": [
      "\u001b[1;31mRunning cells with 'Python 3.10.6 64-bit' requires ipykernel package.\n",
      "\u001b[1;31mRun the following command to install 'ipykernel' into the Python environment. \n",
      "\u001b[1;31mCommand: '/nix/store/cxqgaqk4al0sfrqvzmqzy4vrh5wc3hrh-common-okta-login/bin/python -m pip install ipykernel -U --user --force-reinstall'"
     ]
    }
   ],
   "source": [
    "validate_field_length(\"\", 2000)"
   ]
  },
  {
   "cell_type": "code",
   "execution_count": null,
   "id": "48b27df2",
   "metadata": {},
   "outputs": [
    {
     "ename": "",
     "evalue": "",
     "output_type": "error",
     "traceback": [
      "\u001b[1;31mRunning cells with 'Python 3.10.6 64-bit' requires ipykernel package.\n",
      "\u001b[1;31mRun the following command to install 'ipykernel' into the Python environment. \n",
      "\u001b[1;31mCommand: '/nix/store/cxqgaqk4al0sfrqvzmqzy4vrh5wc3hrh-common-okta-login/bin/python -m pip install ipykernel -U --user --force-reinstall'"
     ]
    }
   ],
   "source": [
    "class InvalidField(CustomBaseException):\n",
    "    \"\"\"Exception to control invalid fields in forms\"\"\"\n",
    "\n",
    "    def __init__(self, field: str = \"field\") -> None:\n",
    "        \"\"\"Constructor\"\"\"\n",
    "        msg = f\"Exception - Invalid {field} in form\"\n",
    "        super(InvalidField, self).__init__(msg)\n",
    "\n",
    "def validate_alphanumeric_field(field: str) -> bool:\n",
    "    \"\"\"Optional whitespace separated string, with alphanumeric characters.\"\"\"\n",
    "    is_alnum = field and all(word.isalnum() for word in field.split())\n",
    "    if is_alnum or field == \"-\":\n",
    "        return True\n",
    "    raise InvalidField()"
   ]
  },
  {
   "cell_type": "code",
   "execution_count": null,
   "id": "71697c5c",
   "metadata": {},
   "outputs": [
    {
     "ename": "",
     "evalue": "",
     "output_type": "error",
     "traceback": [
      "\u001b[1;31mRunning cells with 'Python 3.10.6 64-bit' requires ipykernel package.\n",
      "\u001b[1;31mRun the following command to install 'ipykernel' into the Python environment. \n",
      "\u001b[1;31mCommand: '/nix/store/cxqgaqk4al0sfrqvzmqzy4vrh5wc3hrh-common-okta-login/bin/python -m pip install ipykernel -U --user --force-reinstall'"
     ]
    }
   ],
   "source": [
    "car = \"abcdad\"\n",
    "validate_alphanumeric_field(car)"
   ]
  },
  {
   "cell_type": "code",
   "execution_count": null,
   "id": "98bf3bd5",
   "metadata": {},
   "outputs": [
    {
     "ename": "",
     "evalue": "",
     "output_type": "error",
     "traceback": [
      "\u001b[1;31mRunning cells with 'Python 3.10.6 64-bit' requires ipykernel package.\n",
      "\u001b[1;31mRun the following command to install 'ipykernel' into the Python environment. \n",
      "\u001b[1;31mCommand: '/nix/store/cxqgaqk4al0sfrqvzmqzy4vrh5wc3hrh-common-okta-login/bin/python -m pip install ipykernel -U --user --force-reinstall'"
     ]
    }
   ],
   "source": [
    "rm_preferences = [\"DAILY_DIGEST\", \"ROOT_MOVED\", \"FILE_UPLOADED\", \"ROOT_UPDATE\"]\n",
    "email = [\n",
    "        \"ACCESS_GRANTED\",\n",
    "        \"AGENT_TOKEN\",\n",
    "        \"CHARTS_REPORT\",\n",
    "        \"EVENT_REPORT\",\n",
    "        \"FILE_UPDATE\",\n",
    "        \"GROUP_INFORMATION\",\n",
    "        \"GROUP_REPORT\",\n",
    "        \"NEW_COMMENT\",\n",
    "        \"NEW_DRAFT\",\n",
    "        \"PORTFOLIO_UPDATE\",\n",
    "        \"REMEDIATE_FINDING\",\n",
    "        \"REMINDER_NOTIFICATION\",\n",
    "        \"ROOT_UPDATE\",\n",
    "        \"SERVICE_UPDATE\",\n",
    "        \"UNSUBSCRIPTION_ALERT\",\n",
    "        \"UPDATED_TREATMENT\",\n",
    "        \"VULNERABILITY_ASSIGNED\",\n",
    "        \"VULNERABILITY_REPORT\",\n",
    "    ]\n",
    "\n",
    "if (any(item in email for item in rm_preferences)):\n",
    "    print(\"True\")\n",
    "    print(type(email))\n",
    "\n",
    "#email = list(set(email).difference(set(rm_preferences)))\n",
    "# type(email)"
   ]
  },
  {
   "cell_type": "code",
   "execution_count": null,
   "id": "e99ae23b",
   "metadata": {},
   "outputs": [
    {
     "ename": "",
     "evalue": "",
     "output_type": "error",
     "traceback": [
      "\u001b[1;31mRunning cells with 'Python 3.10.6 64-bit' requires ipykernel package.\n",
      "\u001b[1;31mRun the following command to install 'ipykernel' into the Python environment. \n",
      "\u001b[1;31mCommand: '/nix/store/cxqgaqk4al0sfrqvzmqzy4vrh5wc3hrh-common-okta-login/bin/python -m pip install ipykernel -U --user --force-reinstall'"
     ]
    }
   ],
   "source": [
    "new_preferences = [\n",
    "            item\n",
    "            for item in email\n",
    "            if item not in rm_preferences\n",
    "        ]\n",
    "# new_preferences"
   ]
  },
  {
   "cell_type": "markdown",
   "id": "7abf6c5e",
   "metadata": {},
   "source": [
    "# call G6 file"
   ]
  },
  {
   "cell_type": "code",
   "execution_count": null,
   "id": "cdf77001",
   "metadata": {},
   "outputs": [
    {
     "ename": "",
     "evalue": "",
     "output_type": "error",
     "traceback": [
      "\u001b[1;31mRunning cells with 'Python 3.10.6 64-bit' requires ipykernel package.\n",
      "\u001b[1;31mRun the following command to install 'ipykernel' into the Python environment. \n",
      "\u001b[1;31mCommand: '/nix/store/cxqgaqk4al0sfrqvzmqzy4vrh5wc3hrh-common-okta-login/bin/python -m pip install ipykernel -U --user --force-reinstall'"
     ]
    }
   ],
   "source": [
    "graph = nx.read_graph6(\"authors_global.g6\")"
   ]
  },
  {
   "cell_type": "markdown",
   "id": "146e0603",
   "metadata": {},
   "source": [
    "# Print graph"
   ]
  },
  {
   "cell_type": "code",
   "execution_count": null,
   "id": "b703fc21",
   "metadata": {},
   "outputs": [
    {
     "ename": "",
     "evalue": "",
     "output_type": "error",
     "traceback": [
      "\u001b[1;31mRunning cells with 'Python 3.10.6 64-bit' requires ipykernel package.\n",
      "\u001b[1;31mRun the following command to install 'ipykernel' into the Python environment. \n",
      "\u001b[1;31mCommand: '/nix/store/cxqgaqk4al0sfrqvzmqzy4vrh5wc3hrh-common-okta-login/bin/python -m pip install ipykernel -U --user --force-reinstall'"
     ]
    }
   ],
   "source": [
    "nx.draw(graph)"
   ]
  },
  {
   "cell_type": "code",
   "execution_count": null,
   "id": "aed1a5d1",
   "metadata": {},
   "outputs": [
    {
     "ename": "",
     "evalue": "",
     "output_type": "error",
     "traceback": [
      "\u001b[1;31mRunning cells with 'Python 3.10.6 64-bit' requires ipykernel package.\n",
      "\u001b[1;31mRun the following command to install 'ipykernel' into the Python environment. \n",
      "\u001b[1;31mCommand: '/nix/store/cxqgaqk4al0sfrqvzmqzy4vrh5wc3hrh-common-okta-login/bin/python -m pip install ipykernel -U --user --force-reinstall'"
     ]
    }
   ],
   "source": [
    "plt.figure(figsize=(20,20))\n",
    "nx.draw(graph, with_labels=True, node_color='skyblue', width=.3, font_size=8)"
   ]
  },
  {
   "cell_type": "code",
   "execution_count": null,
   "id": "206d588a",
   "metadata": {},
   "outputs": [
    {
     "ename": "",
     "evalue": "",
     "output_type": "error",
     "traceback": [
      "\u001b[1;31mRunning cells with 'Python 3.10.6 64-bit' requires ipykernel package.\n",
      "\u001b[1;31mRun the following command to install 'ipykernel' into the Python environment. \n",
      "\u001b[1;31mCommand: '/nix/store/cxqgaqk4al0sfrqvzmqzy4vrh5wc3hrh-common-okta-login/bin/python -m pip install ipykernel -U --user --force-reinstall'"
     ]
    }
   ],
   "source": [
    "degrees : list = nx.degree_histogram(graph)\n",
    "degrees.sort()\n",
    "print(degrees)"
   ]
  },
  {
   "cell_type": "code",
   "execution_count": null,
   "id": "6ef39114",
   "metadata": {},
   "outputs": [
    {
     "ename": "",
     "evalue": "",
     "output_type": "error",
     "traceback": [
      "\u001b[1;31mRunning cells with 'Python 3.10.6 64-bit' requires ipykernel package.\n",
      "\u001b[1;31mRun the following command to install 'ipykernel' into the Python environment. \n",
      "\u001b[1;31mCommand: '/nix/store/cxqgaqk4al0sfrqvzmqzy4vrh5wc3hrh-common-okta-login/bin/python -m pip install ipykernel -U --user --force-reinstall'"
     ]
    }
   ],
   "source": [
    "nx.degree(graph)"
   ]
  },
  {
   "cell_type": "markdown",
   "id": "685c6dd6",
   "metadata": {},
   "source": [
    "# Validacion de un dato"
   ]
  },
  {
   "cell_type": "code",
   "execution_count": null,
   "id": "11159801",
   "metadata": {},
   "outputs": [
    {
     "ename": "",
     "evalue": "",
     "output_type": "error",
     "traceback": [
      "\u001b[1;31mRunning cells with 'Python 3.10.6 64-bit' requires ipykernel package.\n",
      "\u001b[1;31mRun the following command to install 'ipykernel' into the Python environment. \n",
      "\u001b[1;31mCommand: '/nix/store/cxqgaqk4al0sfrqvzmqzy4vrh5wc3hrh-common-okta-login/bin/python -m pip install ipykernel -U --user --force-reinstall'"
     ]
    }
   ],
   "source": [
    "author = list(filter(lambda x: x[\"name\"] == \"Zhang\", graph_data['nodes']))\n",
    "author"
   ]
  },
  {
   "cell_type": "code",
   "execution_count": null,
   "id": "cc24d49a",
   "metadata": {},
   "outputs": [
    {
     "ename": "",
     "evalue": "",
     "output_type": "error",
     "traceback": [
      "\u001b[1;31mRunning cells with 'Python 3.10.6 64-bit' requires ipykernel package.\n",
      "\u001b[1;31mRun the following command to install 'ipykernel' into the Python environment. \n",
      "\u001b[1;31mCommand: '/nix/store/cxqgaqk4al0sfrqvzmqzy4vrh5wc3hrh-common-okta-login/bin/python -m pip install ipykernel -U --user --force-reinstall'"
     ]
    }
   ],
   "source": [
    "links = list(filter(lambda x: x[\"source\"] == \"895\" or x[\"target\"] == \"895\", graph_data['links']))\n",
    "print(links)"
   ]
  },
  {
   "cell_type": "code",
   "execution_count": null,
   "id": "e14e7c70",
   "metadata": {},
   "outputs": [
    {
     "ename": "",
     "evalue": "",
     "output_type": "error",
     "traceback": [
      "\u001b[1;31mRunning cells with 'Python 3.10.6 64-bit' requires ipykernel package.\n",
      "\u001b[1;31mRun the following command to install 'ipykernel' into the Python environment. \n",
      "\u001b[1;31mCommand: '/nix/store/cxqgaqk4al0sfrqvzmqzy4vrh5wc3hrh-common-okta-login/bin/python -m pip install ipykernel -U --user --force-reinstall'"
     ]
    }
   ],
   "source": [
    "len(links)"
   ]
  },
  {
   "cell_type": "markdown",
   "id": "1d538318",
   "metadata": {},
   "source": [
    "# crear dataframe y hacer grafico de grados\n"
   ]
  },
  {
   "cell_type": "code",
   "execution_count": null,
   "id": "980dece7",
   "metadata": {},
   "outputs": [
    {
     "ename": "",
     "evalue": "",
     "output_type": "error",
     "traceback": [
      "\u001b[1;31mRunning cells with 'Python 3.10.6 64-bit' requires ipykernel package.\n",
      "\u001b[1;31mRun the following command to install 'ipykernel' into the Python environment. \n",
      "\u001b[1;31mCommand: '/nix/store/cxqgaqk4al0sfrqvzmqzy4vrh5wc3hrh-common-okta-login/bin/python -m pip install ipykernel -U --user --force-reinstall'"
     ]
    }
   ],
   "source": [
    "import pandas as pd\n",
    "degrees = dict(nx.degree(graph))\n",
    "nx.set_node_attributes(graph, name='degree', values=degrees)\n",
    "degree_df = pd.DataFrame(graph.nodes(data='degree'), columns=['node', 'degree'])\n",
    "degree_df = degree_df.sort_values(by='degree', ascending=False)\n",
    "degree_df"
   ]
  },
  {
   "cell_type": "code",
   "execution_count": null,
   "id": "a11be983",
   "metadata": {},
   "outputs": [
    {
     "ename": "",
     "evalue": "",
     "output_type": "error",
     "traceback": [
      "\u001b[1;31mRunning cells with 'Python 3.10.6 64-bit' requires ipykernel package.\n",
      "\u001b[1;31mRun the following command to install 'ipykernel' into the Python environment. \n",
      "\u001b[1;31mCommand: '/nix/store/cxqgaqk4al0sfrqvzmqzy4vrh5wc3hrh-common-okta-login/bin/python -m pip install ipykernel -U --user --force-reinstall'"
     ]
    }
   ],
   "source": [
    "degree_df[0:20].plot(x='node', y='degree', kind='barh').invert_yaxis()"
   ]
  },
  {
   "cell_type": "markdown",
   "id": "e5284861",
   "metadata": {},
   "source": [
    "# crear grafico considerando los trabajos relacionados"
   ]
  },
  {
   "cell_type": "code",
   "execution_count": null,
   "id": "4d25cb7c",
   "metadata": {},
   "outputs": [
    {
     "ename": "",
     "evalue": "",
     "output_type": "error",
     "traceback": [
      "\u001b[1;31mRunning cells with 'Python 3.10.6 64-bit' requires ipykernel package.\n",
      "\u001b[1;31mRun the following command to install 'ipykernel' into the Python environment. \n",
      "\u001b[1;31mCommand: '/nix/store/cxqgaqk4al0sfrqvzmqzy4vrh5wc3hrh-common-okta-login/bin/python -m pip install ipykernel -U --user --force-reinstall'"
     ]
    }
   ],
   "source": [
    "print(graph_data[\"nodes\"][0])\n",
    "print(graph_data[\"links\"][0])\n",
    "nx.degree(graph, weight = \"related\")"
   ]
  },
  {
   "cell_type": "markdown",
   "id": "3922723f",
   "metadata": {},
   "source": [
    "# Betweenness centrality \n",
    "\n",
    "Is a way of detecting the amount of influence a node has over the flow of information in a graph. It is often used to find nodes that serve as a bridge from one part of a graph to another.\n",
    "\n",
    "The algorithm calculates unweighted shortest paths between all pairs of nodes in a graph. Each node receives a score, based on the number of shortest paths that pass through the node. Nodes that more frequently lie on shortest paths between other nodes will have higher betweenness centrality scores."
   ]
  },
  {
   "cell_type": "code",
   "execution_count": null,
   "id": "256e2330",
   "metadata": {},
   "outputs": [
    {
     "ename": "",
     "evalue": "",
     "output_type": "error",
     "traceback": [
      "\u001b[1;31mRunning cells with 'Python 3.10.6 64-bit' requires ipykernel package.\n",
      "\u001b[1;31mRun the following command to install 'ipykernel' into the Python environment. \n",
      "\u001b[1;31mCommand: '/nix/store/cxqgaqk4al0sfrqvzmqzy4vrh5wc3hrh-common-okta-login/bin/python -m pip install ipykernel -U --user --force-reinstall'"
     ]
    }
   ],
   "source": [
    "nx.betweenness_centrality(graph)"
   ]
  },
  {
   "cell_type": "code",
   "execution_count": null,
   "id": "b8592162",
   "metadata": {},
   "outputs": [
    {
     "ename": "",
     "evalue": "",
     "output_type": "error",
     "traceback": [
      "\u001b[1;31mRunning cells with 'Python 3.10.6 64-bit' requires ipykernel package.\n",
      "\u001b[1;31mRun the following command to install 'ipykernel' into the Python environment. \n",
      "\u001b[1;31mCommand: '/nix/store/cxqgaqk4al0sfrqvzmqzy4vrh5wc3hrh-common-okta-login/bin/python -m pip install ipykernel -U --user --force-reinstall'"
     ]
    }
   ],
   "source": [
    "betweenness_centrality = nx.betweenness_centrality(graph)\n",
    "nx.set_node_attributes(graph, name='betweenness', values=betweenness_centrality)\n",
    "betweenness_df = pd.DataFrame(graph.nodes(data='betweenness'), columns=['node', 'betweenness'])\n",
    "betweenness_df = betweenness_df.sort_values(by='betweenness', ascending=False)\n",
    "betweenness_df"
   ]
  },
  {
   "cell_type": "code",
   "execution_count": null,
   "id": "6e85b893",
   "metadata": {},
   "outputs": [
    {
     "ename": "",
     "evalue": "",
     "output_type": "error",
     "traceback": [
      "\u001b[1;31mRunning cells with 'Python 3.10.6 64-bit' requires ipykernel package.\n",
      "\u001b[1;31mRun the following command to install 'ipykernel' into the Python environment. \n",
      "\u001b[1;31mCommand: '/nix/store/cxqgaqk4al0sfrqvzmqzy4vrh5wc3hrh-common-okta-login/bin/python -m pip install ipykernel -U --user --force-reinstall'"
     ]
    }
   ],
   "source": [
    "print(graph_data['nodes'][144])\n",
    "print(graph_data['nodes'][622])"
   ]
  },
  {
   "cell_type": "code",
   "execution_count": null,
   "id": "b17a78dc",
   "metadata": {},
   "outputs": [
    {
     "ename": "",
     "evalue": "",
     "output_type": "error",
     "traceback": [
      "\u001b[1;31mRunning cells with 'Python 3.10.6 64-bit' requires ipykernel package.\n",
      "\u001b[1;31mRun the following command to install 'ipykernel' into the Python environment. \n",
      "\u001b[1;31mCommand: '/nix/store/cxqgaqk4al0sfrqvzmqzy4vrh5wc3hrh-common-okta-login/bin/python -m pip install ipykernel -U --user --force-reinstall'"
     ]
    }
   ],
   "source": [
    "betweenness_df[:20].plot(x='node', y='betweenness', color='green', kind='barh').invert_yaxis()"
   ]
  },
  {
   "cell_type": "markdown",
   "id": "e01af009",
   "metadata": {},
   "source": [
    "# greedy_modularity_comunities\n",
    "\n",
    "Find communities in G using greedy modularity maximization.\n",
    "\n",
    "This function uses Clauset-Newman-Moore greedy modularity maximization to find the community partition with the largest modularity.\n",
    "\n",
    "Greedy modularity maximization begins with each node in its own community and repeatedly joins the pair of communities that lead to the largest modularity until no futher increase in modularity is possible (a maximum). Two keyword arguments adjust the stopping condition. cutoff is a lower limit on the number of communities so you can stop the process before reaching a maximum (used to save computation time). best_n is an upper limit on the number of communities so you can make the process continue until at most n communities remain even if the maximum modularity occurs for more. To obtain exactly n communities, set both cutoff and best_n to n."
   ]
  },
  {
   "cell_type": "code",
   "execution_count": null,
   "id": "6f730bc8",
   "metadata": {},
   "outputs": [
    {
     "ename": "",
     "evalue": "",
     "output_type": "error",
     "traceback": [
      "\u001b[1;31mRunning cells with 'Python 3.10.6 64-bit' requires ipykernel package.\n",
      "\u001b[1;31mRun the following command to install 'ipykernel' into the Python environment. \n",
      "\u001b[1;31mCommand: '/nix/store/cxqgaqk4al0sfrqvzmqzy4vrh5wc3hrh-common-okta-login/bin/python -m pip install ipykernel -U --user --force-reinstall'"
     ]
    }
   ],
   "source": [
    "from networkx.algorithms import community\n",
    "communities = community.greedy_modularity_communities(graph)\n",
    "communities"
   ]
  },
  {
   "cell_type": "code",
   "execution_count": null,
   "id": "a68608ad",
   "metadata": {},
   "outputs": [
    {
     "ename": "",
     "evalue": "",
     "output_type": "error",
     "traceback": [
      "\u001b[1;31mRunning cells with 'Python 3.10.6 64-bit' requires ipykernel package.\n",
      "\u001b[1;31mRun the following command to install 'ipykernel' into the Python environment. \n",
      "\u001b[1;31mCommand: '/nix/store/cxqgaqk4al0sfrqvzmqzy4vrh5wc3hrh-common-okta-login/bin/python -m pip install ipykernel -U --user --force-reinstall'"
     ]
    }
   ],
   "source": [
    "modularity_class = {}\n",
    "for community_number, community in enumerate(communities):\n",
    "    for name in community:\n",
    "        modularity_class[name] = community_number\n",
    "nx.set_node_attributes(graph, modularity_class, 'modularity_class')"
   ]
  },
  {
   "cell_type": "markdown",
   "id": "15f96965",
   "metadata": {},
   "source": [
    "## Crear pandas data frame"
   ]
  },
  {
   "cell_type": "code",
   "execution_count": null,
   "id": "43301bf7",
   "metadata": {},
   "outputs": [
    {
     "ename": "",
     "evalue": "",
     "output_type": "error",
     "traceback": [
      "\u001b[1;31mRunning cells with 'Python 3.10.6 64-bit' requires ipykernel package.\n",
      "\u001b[1;31mRun the following command to install 'ipykernel' into the Python environment. \n",
      "\u001b[1;31mCommand: '/nix/store/cxqgaqk4al0sfrqvzmqzy4vrh5wc3hrh-common-okta-login/bin/python -m pip install ipykernel -U --user --force-reinstall'"
     ]
    }
   ],
   "source": [
    "communities_df = pd.DataFrame(graph.nodes(data='modularity_class'), columns=['node', 'modularity_class'])\n",
    "communities_df = communities_df.sort_values(by='modularity_class', ascending=False)\n",
    "communities_df"
   ]
  },
  {
   "cell_type": "code",
   "execution_count": null,
   "id": "83bb267e",
   "metadata": {},
   "outputs": [
    {
     "ename": "",
     "evalue": "",
     "output_type": "error",
     "traceback": [
      "\u001b[1;31mRunning cells with 'Python 3.10.6 64-bit' requires ipykernel package.\n",
      "\u001b[1;31mRun the following command to install 'ipykernel' into the Python environment. \n",
      "\u001b[1;31mCommand: '/nix/store/cxqgaqk4al0sfrqvzmqzy4vrh5wc3hrh-common-okta-login/bin/python -m pip install ipykernel -U --user --force-reinstall'"
     ]
    }
   ],
   "source": [
    "communities_df[communities_df['modularity_class'] == 0]"
   ]
  },
  {
   "cell_type": "code",
   "execution_count": null,
   "id": "1216966e",
   "metadata": {},
   "outputs": [
    {
     "ename": "",
     "evalue": "",
     "output_type": "error",
     "traceback": [
      "\u001b[1;31mRunning cells with 'Python 3.10.6 64-bit' requires ipykernel package.\n",
      "\u001b[1;31mRun the following command to install 'ipykernel' into the Python environment. \n",
      "\u001b[1;31mCommand: '/nix/store/cxqgaqk4al0sfrqvzmqzy4vrh5wc3hrh-common-okta-login/bin/python -m pip install ipykernel -U --user --force-reinstall'"
     ]
    }
   ],
   "source": [
    "communities_df[communities_df['modularity_class'] == 1]"
   ]
  },
  {
   "cell_type": "code",
   "execution_count": null,
   "id": "3fb32311",
   "metadata": {},
   "outputs": [
    {
     "ename": "",
     "evalue": "",
     "output_type": "error",
     "traceback": [
      "\u001b[1;31mRunning cells with 'Python 3.10.6 64-bit' requires ipykernel package.\n",
      "\u001b[1;31mRun the following command to install 'ipykernel' into the Python environment. \n",
      "\u001b[1;31mCommand: '/nix/store/cxqgaqk4al0sfrqvzmqzy4vrh5wc3hrh-common-okta-login/bin/python -m pip install ipykernel -U --user --force-reinstall'"
     ]
    }
   ],
   "source": [
    "import seaborn as sns\n",
    "\n",
    "#Set figure size\n",
    "plt.figure(figsize=(30,120))\n",
    "\n",
    "#Plot a categorical scatter plot from the dataframe communities_df.sample(40)\n",
    "ax =sns.stripplot(x='modularity_class', y='node', data=communities_df,\n",
    "              hue='modularity_class', marker='*',size=15)\n",
    "#Set legend outside the plot with bbox_to_anchor\n",
    "ax.legend(loc='upper right',bbox_to_anchor=(1, 1), title='Modularity Class')\n",
    "ax.set_title(\"GOT Characters By Modularity Class\\n(Random Sample)\")\n",
    "plt.show()"
   ]
  },
  {
   "cell_type": "code",
   "execution_count": null,
   "id": "d0ca91bc",
   "metadata": {},
   "outputs": [
    {
     "ename": "",
     "evalue": "",
     "output_type": "error",
     "traceback": [
      "\u001b[1;31mRunning cells with 'Python 3.10.6 64-bit' requires ipykernel package.\n",
      "\u001b[1;31mRun the following command to install 'ipykernel' into the Python environment. \n",
      "\u001b[1;31mCommand: '/nix/store/cxqgaqk4al0sfrqvzmqzy4vrh5wc3hrh-common-okta-login/bin/python -m pip install ipykernel -U --user --force-reinstall'"
     ]
    }
   ],
   "source": []
  }
 ],
 "metadata": {
  "kernelspec": {
   "display_name": "Python 3.10.6 64-bit",
   "language": "python",
   "name": "python3"
  },
  "language_info": {
   "codemirror_mode": {
    "name": "ipython",
    "version": 3
   },
   "file_extension": ".py",
   "mimetype": "text/x-python",
   "name": "python",
   "nbconvert_exporter": "python",
   "pygments_lexer": "ipython3",
   "version": "3.10.6"
  },
  "vscode": {
   "interpreter": {
    "hash": "2b632d4f284bbe77588fa149b6cb67b77182ce71d42208176a727bc04a09d6e5"
   }
  }
 },
 "nbformat": 4,
 "nbformat_minor": 5
}
