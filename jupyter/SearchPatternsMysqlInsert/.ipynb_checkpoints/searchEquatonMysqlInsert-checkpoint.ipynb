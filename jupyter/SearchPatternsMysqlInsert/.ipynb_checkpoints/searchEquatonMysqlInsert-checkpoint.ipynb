{
 "cells": [
  {
   "cell_type": "markdown",
   "id": "b93eeabc-a620-4a3c-b37a-45fba64068ca",
   "metadata": {},
   "source": [
    "### Search equations Mysql Insert\n",
    "Before a pattern can be inserted on MySql DB, we need read these pattern froma a txt file. The pattern was passed with a space separated words and every acuations is presented in a new line. We need open file, read the equations, convert to agregator's format (PUBMED, CORE) and insert on MySql for pipeline using the mysqlws microservice.\n",
    "- Open file\n",
    "- ('abstract:((Carcinoma AND escamoso AND pulmón))',\n",
    "                     'CORE','Principales'),"
   ]
  },
  {
   "cell_type": "code",
   "execution_count": 18,
   "id": "82a71c73-c5f6-4300-a990-188448763f52",
   "metadata": {},
   "outputs": [],
   "source": [
    "import re\n",
    "def txt2text(path):\n",
    "    with open(path, mode=\"r\", encoding=\"utf-8\") as f:\n",
    "        text_str=f.read()\n",
    "        f.close()\n",
    "    return text_str  \n",
    "def str2eq(pattern, sentences_str):\n",
    "    pattern=re.compile(pattern)\n",
    "    match=''\n",
    "    sentences=[]\n",
    "    while match != None:\n",
    "        match=pattern.search(sentences_str)\n",
    "        if(match!=None):\n",
    "            sentences.append(sentences_str[:match.start()].split())\n",
    "            #print(string[:match.start()])    \n",
    "            sentences_str=sentences_str[match.end():]\n",
    "    return sentences"
   ]
  },
  {
   "cell_type": "code",
   "execution_count": 19,
   "id": "92b31122-a0dc-45e5-8bfc-1f0afb33a604",
   "metadata": {},
   "outputs": [],
   "source": [
    "patterns_text=txt2text('patterns.txt')"
   ]
  },
  {
   "cell_type": "code",
   "execution_count": 20,
   "id": "18d7f665-b854-46a2-bfe8-7e5901b0bcc4",
   "metadata": {},
   "outputs": [],
   "source": [
    "search_queries=str2eq(r'\\n',patterns_text)"
   ]
  },
  {
   "cell_type": "code",
   "execution_count": 28,
   "id": "b6e376c7-9787-49f7-a4d0-29b71cc3fa3a",
   "metadata": {},
   "outputs": [
    {
     "name": "stdout",
     "output_type": "stream",
     "text": [
      "abstract:(cáncer AND  pulmón)\n",
      "abstract:(cáncer AND  prostata)\n",
      "abstract:(cáncer AND  mama)\n",
      "abstract:(cáncer AND  ovario)\n",
      "abstract:(cáncer AND  cervix)\n",
      "abstract:(cáncer AND  pelvis)\n",
      "abstract:(cáncer AND  vejiga)\n",
      "abstract:(cáncer AND  metástasis)\n",
      "abstract:(cáncer AND  estómago)\n",
      "abstract:(cáncer AND  huesos)\n",
      "abstract:(cáncer AND  tiroides)\n",
      "abstract:(cáncer AND  colon)\n",
      "abstract:(cáncer AND cuello AND  uterino)\n",
      "abstract:(cáncer AND  quimioterapia)\n",
      "abstract:(cáncer AND  radioterapia)\n",
      "abstract:(cáncer AND  tratamiento)\n",
      "abstract:(tumores AND  cerebrales)\n",
      "abstract:(cáncer AND  piel)\n",
      "abstract:(cáncer AND triple AND  negativo)\n",
      "abstract:(Cáncer AND  fumador)\n",
      "abstract:(Cáncer AND  mutación)\n",
      "abstract:( Leucemia)\n",
      "abstract:(neoplasia AND  pulmonar)\n",
      "abstract:(neoplasia AND  maligna)\n",
      "abstract:(carcinoma AND  pulmonar)\n",
      "abstract:(carcinoma AND escamoso AND  pulmón)\n",
      "abstract:(adenocarcinoma AND  pulmón)\n",
      "abstract:(carcinoma AND celulas AND  grandes)\n",
      "abstract:(carcinoma AND celulas AND  pequeñas)\n",
      "abstract:(carcinoma AND  quimioterapia)\n",
      "abstract:(carcinoma AND  radioterapia)\n",
      "abstract:(células AND  malignas)\n",
      "abstract:(células AND  cancerosas)\n",
      "abstract:(células AND  cancerígenas)\n",
      "abstract:(carcinoma AND  infiltrante)\n",
      "abstract:(carcinoma AND  mamario)\n",
      "abstract:(carcinoma AND in AND  situ)\n",
      "abstract:(Carcinoma AND  lobulillar)\n",
      "abstract:(Carcinoma AND  ductal)\n",
      "abstract:(Carcinoma AND  invasivo)\n",
      "abstract:( Melanoma)\n",
      "abstract:( Linfoma)\n",
      "abstract:(paciente AND  oncológico)\n",
      "abstract:(efectos AND adversos AND  medicamentos)\n",
      "abstract:(efectos AND secundarios AND  medicamentos)\n",
      "abstract:(Terapia AND reemplazo AND  hormonal)\n",
      "abstract:( Carboplatino)\n",
      "abstract:( Pemetrexed)\n",
      "abstract:( Cisplatino)\n",
      "abstract:( Vinorelbina)\n",
      "abstract:( Gemcitabina)\n",
      "abstract:( Metoclopramida)\n",
      "abstract:( Doxetacel)\n",
      "abstract:( bevacizumab)\n",
      "abstract:( Taxol)\n",
      "abstract:( Ciclofosfamida)\n",
      "abstract:( Doxorrubicina)\n",
      "abstract:( Metotrexato)\n",
      "abstract:( Cabazitaxel)\n",
      "abstract:( Capecitabina)\n",
      "abstract:(tratamiento AND  hormonal)\n",
      "abstract:( Ciclofosfamida)\n",
      "abstract:( Etopósido)\n",
      "abstract:( Oxaliplatino)\n",
      "abstract:( Taxotere)\n",
      "abstract:( Trifluridina)\n",
      "abstract:( Temozolomida)\n",
      "abstract:( Dacarbazina)\n",
      "abstract:( Amoxicilina)\n",
      "abstract:( Penicilina)\n",
      "abstract:( Tetraciclina)\n",
      "abstract:( Ticarcilina)\n",
      "abstract:( Azitromicina)\n",
      "abstract:( Gentamicina)\n",
      "abstract:( Dexametasona)\n",
      "abstract:( Ivermectina)\n",
      "abstract:( Hidroxicloroquina)\n",
      "abstract:( Inmunoterapia)\n",
      "abstract:( diabetes)\n",
      "abstract:(enfermedad AND  cardiovascular)\n",
      "abstract:(hipertensión AND  arterial)\n",
      "abstract:(presión AND  arterial)\n",
      "abstract:( dislipidemia)\n",
      "abstract:( hipotiroidismo)\n",
      "abstract:( trombopenia)\n",
      "abstract:( neuropatia)\n",
      "abstract:( dislipemia)\n",
      "abstract:( enfisema)\n",
      "abstract:(Trombosis AND venosa AND  profunda)\n",
      "abstract:( Adenopatías)\n",
      "abstract:( Adenopatía)\n",
      "abstract:(sistema AND  inmunológico)\n",
      "abstract:( Osteoporosis)\n",
      "abstract:(insuficiencia AND  respiratoria)\n",
      "abstract:(insuficiencia AND  cardiaca)\n",
      "abstract:(deterioro AND  cognitivo)\n",
      "abstract:(esclerosis AND  múltiple)\n",
      "abstract:(úlcera AND  gastroduodenal)\n",
      "abstract:(ictus AND  isquémico)\n",
      "abstract:(Accidente AND  cerebrovascular)\n",
      "abstract:( epilepsia)\n",
      "abstract:( Uropatias)\n",
      "abstract:( Hipercolesterolemia)\n",
      "abstract:(reacciones AND  alérgicas)\n",
      "abstract:(murmullo AND  vesicular)\n",
      "abstract:(obstrucción AND pulmonar AND  crónica)\n",
      "abstract:( Anemia)\n",
      "abstract:( Mastectomía)\n",
      "abstract:( Linfadenectomía)\n",
      "abstract:( Tumorectomía)\n",
      "abstract:( Lobectomía)\n",
      "abstract:(oncología AND  médica)\n",
      "abstract:(Cirugía AND  coronaria)\n",
      "abstract:(Cirugía AND  valvular)\n",
      "abstract:( Neumonectomía)\n"
     ]
    }
   ],
   "source": [
    "\n",
    "for query_words in search_queries:\n",
    "    query='abstract:('\n",
    "    for i in range(len(query_words)):\n",
    "        if(i==len(query_words)-1):\n",
    "            query+=' %s)'%(query_words[i])\n",
    "        else:\n",
    "            query+='%s AND '%(query_words[i])\n",
    "    print(query)\n",
    "        "
   ]
  },
  {
   "cell_type": "code",
   "execution_count": 26,
   "id": "1aa7eead-4341-402d-9e70-53cb1df59848",
   "metadata": {},
   "outputs": [
    {
     "name": "stdout",
     "output_type": "stream",
     "text": [
      "abstract:( Neumonectomía)\n"
     ]
    }
   ],
   "source": [
    "print(query)"
   ]
  },
  {
   "cell_type": "code",
   "execution_count": null,
   "id": "b6a4c21f-a83c-417e-9697-5b42c561e969",
   "metadata": {},
   "outputs": [],
   "source": []
  }
 ],
 "metadata": {
  "kernelspec": {
   "display_name": "Python 3 (ipykernel)",
   "language": "python",
   "name": "python3"
  },
  "language_info": {
   "codemirror_mode": {
    "name": "ipython",
    "version": 3
   },
   "file_extension": ".py",
   "mimetype": "text/x-python",
   "name": "python",
   "nbconvert_exporter": "python",
   "pygments_lexer": "ipython3",
   "version": "3.8.10"
  }
 },
 "nbformat": 4,
 "nbformat_minor": 5
}
