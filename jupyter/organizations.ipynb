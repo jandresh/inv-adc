{
 "cells": [
  {
   "cell_type": "code",
   "execution_count": 1,
   "id": "18e42d79-8ef3-4ea2-9941-ac4d580ca668",
   "metadata": {},
   "outputs": [],
   "source": [
    "import json\n",
    "import time\n",
    "from flask import Flask, jsonify, request, Response\n",
    "import requests\n",
    "import sys\n",
    "from datetime import datetime\n",
    "\n",
    "def post_json_request(url, obj):\n",
    "    return requests.post(url, json=obj).json()"
   ]
  },
  {
   "cell_type": "code",
   "execution_count": 7,
   "id": "444e5d0f-8eae-4e7c-a02c-450b6eb8decd",
   "metadata": {},
   "outputs": [],
   "source": [
    "pubmedResult = post_json_request(\n",
    "    \"http://localhost:5000/query\",\n",
    "    {\n",
    "        \"database\": \"adc_cali\",\n",
    "        \"maxdocs\": 20,\n",
    "        \"project\": \"breast_cancer\",\n",
    "        \"patternid\": 1,\n",
    "        \"query\": \"breast[Title/Abstract] AND carcinoma[Title/Abstract]\",\n",
    "    },\n",
    ")[0][\"exit\"]"
   ]
  },
  {
   "cell_type": "code",
   "execution_count": 6,
   "id": "7d25f509-7147-4fae-af97-10e3330419e8",
   "metadata": {},
   "outputs": [
    {
     "name": "stdout",
     "output_type": "stream",
     "text": [
      "0\n"
     ]
    }
   ],
   "source": [
    "print(pubmedResult)"
   ]
  },
  {
   "cell_type": "code",
   "execution_count": 16,
   "id": "260f61f9-b046-45c9-a970-52328d5f8f6b",
   "metadata": {},
   "outputs": [
    {
     "data": {
      "text/plain": [
       "dict_keys(['_id', 'title', 'abstract', 'authors', 'dbid', 'doi', 'lang', 'org', 'pat_id', 'url', 'year'])"
      ]
     },
     "execution_count": 16,
     "metadata": {},
     "output_type": "execute_result"
    }
   ],
   "source": [
    "documents = post_json_request(\n",
    "    \"http://localhost:5001/mongo-doc-list\",\n",
    "    {\n",
    "        \"db_name\": \"adc_cali\",\n",
    "        \"coll_name\": \"breast_cancer_metadata_global\"\n",
    "    },\n",
    ")\n",
    "documents[0].keys()"
   ]
  },
  {
   "cell_type": "code",
   "execution_count": 18,
   "id": "02be493f-57f9-444f-a9fc-33d72e968890",
   "metadata": {},
   "outputs": [
    {
     "data": {
      "text/plain": [
       "[{'url': ''},\n",
       " {'url': ''},\n",
       " {'url': ''},\n",
       " {'url': ''},\n",
       " {'url': ''},\n",
       " {'url': ''},\n",
       " {'url': ''},\n",
       " {'url': ''},\n",
       " {'url': ''},\n",
       " {'url': 'http://europepmc.org/backend/ptpmcrender.fcgi?accid=PMC9427118&blobtype=pdf'},\n",
       " {'url': 'http://europepmc.org/backend/ptpmcrender.fcgi?accid=PMC9424548&blobtype=pdf'},\n",
       " {'url': 'http://europepmc.org/backend/ptpmcrender.fcgi?accid=PMC9425891&blobtype=pdf'},\n",
       " {'url': 'http://europepmc.org/backend/ptpmcrender.fcgi?accid=PMC9424033&blobtype=pdf'},\n",
       " {'url': 'http://europepmc.org/backend/ptpmcrender.fcgi?accid=PMC9424343&blobtype=pdf'},\n",
       " {'url': ''},\n",
       " {'url': ''},\n",
       " {'url': ''},\n",
       " {'url': ''},\n",
       " {'url': 'http://europepmc.org/backend/ptpmcrender.fcgi?accid=PMC9400791&blobtype=pdf'},\n",
       " {'url': 'http://europepmc.org/backend/ptpmcrender.fcgi?accid=PMC9422358&blobtype=pdf'}]"
      ]
     },
     "execution_count": 18,
     "metadata": {},
     "output_type": "execute_result"
    }
   ],
   "source": [
    "urlList=list(map(lambda document: {\"url\": document[\"url\"]}, documents))\n",
    "urlList"
   ]
  },
  {
   "cell_type": "code",
   "execution_count": 33,
   "id": "37a3de6b-5e50-4274-b514-4e4debc92199",
   "metadata": {},
   "outputs": [
    {
     "data": {
      "text/plain": [
       "{'htext': 'Breast Cancer: Targets and Therapy\\n\\nDovepress\\nopen access to scientific and medical research\\n\\nOpen Access Full Text Article\\n\\nREVIEW\\n\\nA Scoping Review on the Status of Female Breast\\nCancer in Asia with a Special Focus on Nepal\\nRojana Dhakal 1,2 , Maria Noula 1 , Zoe Roupa 1 , Edna N Yamasaki 1\\n1\\nDepartment of Life and Health Sciences, University of Nicosia, Nicosia, Cyprus; 2Department of Nursing, School of Health and Allied Sciences,\\nPokhara University, Kaski, Gandaki Province, Nepal\\n\\nCorrespondence: Rojana Dhakal, Department of Nursing, School of Health and Allied Sciences, Pokhara University, Kaski, Gandaki Province, Nepal,\\nEmail rojanabuddhi2@gmail.com; dhakal.r@live.unic.ac.cy\\n\\n'}"
      ]
     },
     "execution_count": 33,
     "metadata": {},
     "output_type": "execute_result"
    }
   ],
   "source": [
    "def url2head(url):\n",
    "    try:\n",
    "        return post_json_request(\n",
    "            \"http://localhost:5002/url2htext\",\n",
    "            { \"url\": url }\n",
    "        )\n",
    "    except:\n",
    "        return {\"htext\": \"\"}\n",
    "url2head(\"http://europepmc.org/backend/ptpmcrender.fcgi?accid=PMC9427118&blobtype=pdf\")"
   ]
  },
  {
   "cell_type": "code",
   "execution_count": 34,
   "id": "47e9632c-4336-4cc2-9a6b-4186b69bce13",
   "metadata": {},
   "outputs": [
    {
     "data": {
      "text/plain": [
       "[{'url': 'http://europepmc.org/backend/ptpmcrender.fcgi?accid=PMC9427118&blobtype=pdf'},\n",
       " {'url': 'http://europepmc.org/backend/ptpmcrender.fcgi?accid=PMC9424548&blobtype=pdf'},\n",
       " {'url': 'http://europepmc.org/backend/ptpmcrender.fcgi?accid=PMC9425891&blobtype=pdf'},\n",
       " {'url': 'http://europepmc.org/backend/ptpmcrender.fcgi?accid=PMC9424033&blobtype=pdf'},\n",
       " {'url': 'http://europepmc.org/backend/ptpmcrender.fcgi?accid=PMC9424343&blobtype=pdf'},\n",
       " {'url': 'http://europepmc.org/backend/ptpmcrender.fcgi?accid=PMC9400791&blobtype=pdf'},\n",
       " {'url': 'http://europepmc.org/backend/ptpmcrender.fcgi?accid=PMC9422358&blobtype=pdf'}]"
      ]
     },
     "execution_count": 34,
     "metadata": {},
     "output_type": "execute_result"
    }
   ],
   "source": [
    "urls = list(filter(lambda url: url[\"url\"] != \"\", urlList))\n",
    "urls"
   ]
  },
  {
   "cell_type": "code",
   "execution_count": 35,
   "id": "bd528fd0-a3db-41ef-bc52-c905c576f323",
   "metadata": {},
   "outputs": [],
   "source": [
    "headers = list(map(lambda url: url2head(url[\"url\"])[\"htext\"], urls))"
   ]
  },
  {
   "cell_type": "code",
   "execution_count": 36,
   "id": "9a477207-e132-402c-a116-53a35d725d7f",
   "metadata": {},
   "outputs": [
    {
     "data": {
      "text/plain": [
       "['Breast Cancer: Targets and Therapy\\n\\nDovepress\\nopen access to scientific and medical research\\n\\nOpen Access Full Text Article\\n\\nREVIEW\\n\\nA Scoping Review on the Status of Female Breast\\nCancer in Asia with a Special Focus on Nepal\\nRojana Dhakal 1,2 , Maria Noula 1 , Zoe Roupa 1 , Edna N Yamasaki 1\\n1\\nDepartment of Life and Health Sciences, University of Nicosia, Nicosia, Cyprus; 2Department of Nursing, School of Health and Allied Sciences,\\nPokhara University, Kaski, Gandaki Province, Nepal\\n\\nCorrespondence: Rojana Dhakal, Department of Nursing, School of Health and Allied Sciences, Pokhara University, Kaski, Gandaki Province, Nepal,\\nEmail rojanabuddhi2@gmail.com; dhakal.r@live.unic.ac.cy\\n\\n',\n",
       " '',\n",
       " '',\n",
       " '',\n",
       " '',\n",
       " 'Exploration of Targeted Anti-tumor Therapy\\nOpen Access Review\\n\\nAn overview of the anti-cancer actions of Tanshinones, derived\\nfrom Salvia miltiorrhiza (Danshen)\\nIrum Naz1, Myriam Merarchi2, Shanaya Ramchandani3, Muhammad Rashid Khan4*, Muhammad Nouman\\nMalik1, Sumaira Sarwar1, Acharan S Narula5, Kwang Seok Ahn6*\\nDepartment of Biochemistry, Faculty of Biological Sciences, Quaid-i-Azam University, Islamabad 45320, Pakistan\\n\\n1\\n\\nFaculty of Pharmacy, University of Paris Descartes, 75006 Paris, France\\n\\n2\\n\\nDepartment of Pharmacology-Biomedicine, The University of Melbourne, Parkville, VIC 3010, Australia\\n\\n3\\n\\nHigher Education Commission of Pakistan, Islamabad 44000, Pakistan\\n\\n4\\n\\nNarula Research, Chapel Hill, NC 27516, USA\\n\\n5\\n\\nDepartment of Science in Korean Medicine, College of Korean Medicine, Kyung Hee University, 24 Kyungheedae-ro,\\nDongdaemun-gu, Seoul 02447, South Korea\\n6\\n\\n*Correspondence: Muhammad Rashid Khan, Department of Biochemistry, Faculty of Biological Sciences, Quaid-i-Azam\\nUniversity, Islamabad 45320, Pakistan. mrkhanqau@yahoo.com; Kwang Seok Ahn, Department of Science in Korean Medicine,\\nCollege of Korean Medicine, Kyung Hee University, 24 Kyungheedae-ro, Dongdaemun-gu, Seoul 02447, South Korea. ksahn@\\nkhu.ac.kr\\nAcademic Editor: Gautam Sethi, National University of Singapore, Singapore\\nReceived: April 16, 2020 Accepted: May 17, 2020 Published: June 29, 2020\\n\\nCite this article: Naz I, Merarchi M, Ramchandani S, Khan MR, Malik MN, Sarwar S, et al. An overview of the anti-cancer\\nactions of Tanshinones, derived from Salvia miltiorrhiza (Danshen). Explor Target Antitumor Ther. 2020;1:153-70. https://doi.\\norg/10.37349/etat.2020.00010\\n\\n',\n",
       " '']"
      ]
     },
     "execution_count": 36,
     "metadata": {},
     "output_type": "execute_result"
    }
   ],
   "source": [
    "headers"
   ]
  },
  {
   "cell_type": "code",
   "execution_count": 38,
   "id": "83f0f8a2-87ae-4c13-b479-3e3e0183244d",
   "metadata": {},
   "outputs": [
    {
     "data": {
      "text/plain": [
       "['Breast Cancer: Targets and Therapy\\n\\nDovepress\\nopen access to scientific and medical research\\n\\nOpen Access Full Text Article\\n\\nREVIEW\\n\\nA Scoping Review on the Status of Female Breast\\nCancer in Asia with a Special Focus on Nepal\\nRojana Dhakal 1,2 , Maria Noula 1 , Zoe Roupa 1 , Edna N Yamasaki 1\\n1\\nDepartment of Life and Health Sciences, University of Nicosia, Nicosia, Cyprus; 2Department of Nursing, School of Health and Allied Sciences,\\nPokhara University, Kaski, Gandaki Province, Nepal\\n\\nCorrespondence: Rojana Dhakal, Department of Nursing, School of Health and Allied Sciences, Pokhara University, Kaski, Gandaki Province, Nepal,\\nEmail rojanabuddhi2@gmail.com; dhakal.r@live.unic.ac.cy\\n\\n',\n",
       " 'Exploration of Targeted Anti-tumor Therapy\\nOpen Access Review\\n\\nAn overview of the anti-cancer actions of Tanshinones, derived\\nfrom Salvia miltiorrhiza (Danshen)\\nIrum Naz1, Myriam Merarchi2, Shanaya Ramchandani3, Muhammad Rashid Khan4*, Muhammad Nouman\\nMalik1, Sumaira Sarwar1, Acharan S Narula5, Kwang Seok Ahn6*\\nDepartment of Biochemistry, Faculty of Biological Sciences, Quaid-i-Azam University, Islamabad 45320, Pakistan\\n\\n1\\n\\nFaculty of Pharmacy, University of Paris Descartes, 75006 Paris, France\\n\\n2\\n\\nDepartment of Pharmacology-Biomedicine, The University of Melbourne, Parkville, VIC 3010, Australia\\n\\n3\\n\\nHigher Education Commission of Pakistan, Islamabad 44000, Pakistan\\n\\n4\\n\\nNarula Research, Chapel Hill, NC 27516, USA\\n\\n5\\n\\nDepartment of Science in Korean Medicine, College of Korean Medicine, Kyung Hee University, 24 Kyungheedae-ro,\\nDongdaemun-gu, Seoul 02447, South Korea\\n6\\n\\n*Correspondence: Muhammad Rashid Khan, Department of Biochemistry, Faculty of Biological Sciences, Quaid-i-Azam\\nUniversity, Islamabad 45320, Pakistan. mrkhanqau@yahoo.com; Kwang Seok Ahn, Department of Science in Korean Medicine,\\nCollege of Korean Medicine, Kyung Hee University, 24 Kyungheedae-ro, Dongdaemun-gu, Seoul 02447, South Korea. ksahn@\\nkhu.ac.kr\\nAcademic Editor: Gautam Sethi, National University of Singapore, Singapore\\nReceived: April 16, 2020 Accepted: May 17, 2020 Published: June 29, 2020\\n\\nCite this article: Naz I, Merarchi M, Ramchandani S, Khan MR, Malik MN, Sarwar S, et al. An overview of the anti-cancer\\nactions of Tanshinones, derived from Salvia miltiorrhiza (Danshen). Explor Target Antitumor Ther. 2020;1:153-70. https://doi.\\norg/10.37349/etat.2020.00010\\n\\n']"
      ]
     },
     "execution_count": 38,
     "metadata": {},
     "output_type": "execute_result"
    }
   ],
   "source": [
    "headersFiltered = list(filter(lambda head: head != \"\", headers))\n",
    "headersFiltered"
   ]
  },
  {
   "cell_type": "code",
   "execution_count": 37,
   "id": "0f08c771-591e-4636-9a8c-226dbb6cd8af",
   "metadata": {},
   "outputs": [
    {
     "data": {
      "text/plain": [
       "{'locations': ['Tanshinones',\n",
       "  'Salvia',\n",
       "  'Biochemistry',\n",
       "  'Pakistan',\n",
       "  'Pharmacy',\n",
       "  'Paris Descartes',\n",
       "  'Paris',\n",
       "  'France',\n",
       "  'Melbourne',\n",
       "  'Parkville',\n",
       "  'Australia',\n",
       "  'Pakistan Pakistan',\n",
       "  'Science',\n",
       "  'Korean Medicine',\n",
       "  'Korean Medicine Seoul',\n",
       "  'South',\n",
       "  'Biochemistry Pakistan',\n",
       "  'Science Korean Medicine',\n",
       "  'Korean Medicine Seoul South Korea',\n",
       "  'Singapore',\n",
       "  'Tanshinones Salvia']}"
      ]
     },
     "execution_count": 37,
     "metadata": {},
     "output_type": "execute_result"
    }
   ],
   "source": [
    "def text2locations(text):\n",
    "    try:\n",
    "        return post_json_request(\n",
    "            \"http://localhost:5002/text2locations\",\n",
    "            { \"text\": text }\n",
    "        )\n",
    "    except:\n",
    "        return {\"locations\": []}\n",
    "text2locations(\"Exploration of Targeted Anti-tumor Therapy\\nOpen Access Review\\n\\nAn overview of the anti-cancer actions of Tanshinones, derived\\nfrom Salvia miltiorrhiza (Danshen)\\nIrum Naz1, Myriam Merarchi2, Shanaya Ramchandani3, Muhammad Rashid Khan4*, Muhammad Nouman\\nMalik1, Sumaira Sarwar1, Acharan S Narula5, Kwang Seok Ahn6*\\nDepartment of Biochemistry, Faculty of Biological Sciences, Quaid-i-Azam University, Islamabad 45320, Pakistan\\n\\n1\\n\\nFaculty of Pharmacy, University of Paris Descartes, 75006 Paris, France\\n\\n2\\n\\nDepartment of Pharmacology-Biomedicine, The University of Melbourne, Parkville, VIC 3010, Australia\\n\\n3\\n\\nHigher Education Commission of Pakistan, Islamabad 44000, Pakistan\\n\\n4\\n\\nNarula Research, Chapel Hill, NC 27516, USA\\n\\n5\\n\\nDepartment of Science in Korean Medicine, College of Korean Medicine, Kyung Hee University, 24 Kyungheedae-ro,\\nDongdaemun-gu, Seoul 02447, South Korea\\n6\\n\\n*Correspondence: Muhammad Rashid Khan, Department of Biochemistry, Faculty of Biological Sciences, Quaid-i-Azam\\nUniversity, Islamabad 45320, Pakistan. mrkhanqau@yahoo.com; Kwang Seok Ahn, Department of Science in Korean Medicine,\\nCollege of Korean Medicine, Kyung Hee University, 24 Kyungheedae-ro, Dongdaemun-gu, Seoul 02447, South Korea. ksahn@\\nkhu.ac.kr\\nAcademic Editor: Gautam Sethi, National University of Singapore, Singapore\\nReceived: April 16, 2020 Accepted: May 17, 2020 Published: June 29, 2020\\n\\nCite this article: Naz I, Merarchi M, Ramchandani S, Khan MR, Malik MN, Sarwar S, et al. An overview of the anti-cancer\\nactions of Tanshinones, derived from Salvia miltiorrhiza (Danshen). Explor Target Antitumor Ther. 2020;1:153-70. https://doi.\\norg/10.37349/etat.2020.00010\\n\\n\")"
   ]
  },
  {
   "cell_type": "code",
   "execution_count": 40,
   "id": "935b9eff-4d18-47e0-a76b-7480f79d3857",
   "metadata": {},
   "outputs": [
    {
     "data": {
      "text/plain": [
       "[['Asia',\n",
       "  'Life',\n",
       "  'Nicosia',\n",
       "  'Nicosia Cyprus',\n",
       "  'Nursing',\n",
       "  'Health',\n",
       "  'Nursing Health'],\n",
       " ['Tanshinones',\n",
       "  'Salvia',\n",
       "  'Biochemistry',\n",
       "  'Pakistan',\n",
       "  'Pharmacy',\n",
       "  'Paris Descartes',\n",
       "  'Paris',\n",
       "  'France',\n",
       "  'Melbourne',\n",
       "  'Parkville',\n",
       "  'Australia',\n",
       "  'Pakistan Pakistan',\n",
       "  'Science',\n",
       "  'Korean Medicine',\n",
       "  'Korean Medicine Seoul',\n",
       "  'South',\n",
       "  'Biochemistry Pakistan',\n",
       "  'Science Korean Medicine',\n",
       "  'Korean Medicine Seoul South Korea',\n",
       "  'Singapore',\n",
       "  'Tanshinones Salvia']]"
      ]
     },
     "execution_count": 40,
     "metadata": {},
     "output_type": "execute_result"
    }
   ],
   "source": [
    "locations = list(map(lambda text: text2locations(text)[\"locations\"], headersFiltered))\n",
    "locations"
   ]
  },
  {
   "cell_type": "code",
   "execution_count": 49,
   "id": "1e7a9755-7440-4c11-89eb-258784bb83d6",
   "metadata": {},
   "outputs": [
    {
     "data": {
      "text/plain": [
       "{'places': ['South Korea',\n",
       "  'Pakistan',\n",
       "  'France',\n",
       "  'United States of America',\n",
       "  'Australia',\n",
       "  'Singapore',\n",
       "  'Canada',\n",
       "  'India',\n",
       "  'Sweden',\n",
       "  'New Zealand',\n",
       "  'Denmark',\n",
       "  'Indonesia']}"
      ]
     },
     "execution_count": 49,
     "metadata": {},
     "output_type": "execute_result"
    }
   ],
   "source": [
    "def text2places(text):\n",
    "    try:\n",
    "        return post_json_request(\n",
    "            \"http://localhost:5002/text2places\",\n",
    "            { \"text\": text }\n",
    "        )\n",
    "    except:\n",
    "        return {\"places\": []}\n",
    "text2places(\"Exploration of Targeted Anti-tumor Therapy\\nOpen Access Review\\n\\nAn overview of the anti-cancer actions of Tanshinones, derived\\nfrom Salvia miltiorrhiza (Danshen)\\nIrum Naz1, Myriam Merarchi2, Shanaya Ramchandani3, Muhammad Rashid Khan4*, Muhammad Nouman\\nMalik1, Sumaira Sarwar1, Acharan S Narula5, Kwang Seok Ahn6*\\nDepartment of Biochemistry, Faculty of Biological Sciences, Quaid-i-Azam University, Islamabad 45320, Pakistan\\n\\n1\\n\\nFaculty of Pharmacy, University of Paris Descartes, 75006 Paris, France\\n\\n2\\n\\nDepartment of Pharmacology-Biomedicine, The University of Melbourne, Parkville, VIC 3010, Australia\\n\\n3\\n\\nHigher Education Commission of Pakistan, Islamabad 44000, Pakistan\\n\\n4\\n\\nNarula Research, Chapel Hill, NC 27516, USA\\n\\n5\\n\\nDepartment of Science in Korean Medicine, College of Korean Medicine, Kyung Hee University, 24 Kyungheedae-ro,\\nDongdaemun-gu, Seoul 02447, South Korea\\n6\\n\\n*Correspondence: Muhammad Rashid Khan, Department of Biochemistry, Faculty of Biological Sciences, Quaid-i-Azam\\nUniversity, Islamabad 45320, Pakistan. mrkhanqau@yahoo.com; Kwang Seok Ahn, Department of Science in Korean Medicine,\\nCollege of Korean Medicine, Kyung Hee University, 24 Kyungheedae-ro, Dongdaemun-gu, Seoul 02447, South Korea. ksahn@\\nkhu.ac.kr\\nAcademic Editor: Gautam Sethi, National University of Singapore, Singapore\\nReceived: April 16, 2020 Accepted: May 17, 2020 Published: June 29, 2020\\n\\nCite this article: Naz I, Merarchi M, Ramchandani S, Khan MR, Malik MN, Sarwar S, et al. An overview of the anti-cancer\\nactions of Tanshinones, derived from Salvia miltiorrhiza (Danshen). Explor Target Antitumor Ther. 2020;1:153-70. https://doi.\\norg/10.37349/etat.2020.00010\\n\\n\")"
   ]
  },
  {
   "cell_type": "code",
   "execution_count": 51,
   "id": "888559a8-2111-45d3-b326-f305983367e1",
   "metadata": {},
   "outputs": [
    {
     "data": {
      "text/plain": [
       "[['Nepal', 'Cyprus', 'United States of America', 'Italy', 'Philippines'],\n",
       " ['South Korea',\n",
       "  'Pakistan',\n",
       "  'France',\n",
       "  'United States of America',\n",
       "  'Australia',\n",
       "  'Singapore',\n",
       "  'Canada',\n",
       "  'India',\n",
       "  'Sweden',\n",
       "  'New Zealand',\n",
       "  'Denmark',\n",
       "  'Indonesia']]"
      ]
     },
     "execution_count": 51,
     "metadata": {},
     "output_type": "execute_result"
    }
   ],
   "source": [
    "places = list(map(lambda text: text2places(text)[\"places\"], headersFiltered))\n",
    "places"
   ]
  },
  {
   "cell_type": "code",
   "execution_count": 53,
   "id": "f7798730-ae6a-4f07-b40e-0395f5aec0d3",
   "metadata": {},
   "outputs": [
    {
     "data": {
      "text/plain": [
       "{'emails': ['mrkhanqau@yahoo.com']}"
      ]
     },
     "execution_count": 53,
     "metadata": {},
     "output_type": "execute_result"
    }
   ],
   "source": [
    "def text2emails(text):\n",
    "    try:\n",
    "        return post_json_request(\n",
    "            \"http://localhost:5002/text2emails\",\n",
    "            { \"text\": text }\n",
    "        )\n",
    "    except:\n",
    "        return {\"emails\": []}\n",
    "text2emails(\"Exploration of Targeted Anti-tumor Therapy\\nOpen Access Review\\n\\nAn overview of the anti-cancer actions of Tanshinones, derived\\nfrom Salvia miltiorrhiza (Danshen)\\nIrum Naz1, Myriam Merarchi2, Shanaya Ramchandani3, Muhammad Rashid Khan4*, Muhammad Nouman\\nMalik1, Sumaira Sarwar1, Acharan S Narula5, Kwang Seok Ahn6*\\nDepartment of Biochemistry, Faculty of Biological Sciences, Quaid-i-Azam University, Islamabad 45320, Pakistan\\n\\n1\\n\\nFaculty of Pharmacy, University of Paris Descartes, 75006 Paris, France\\n\\n2\\n\\nDepartment of Pharmacology-Biomedicine, The University of Melbourne, Parkville, VIC 3010, Australia\\n\\n3\\n\\nHigher Education Commission of Pakistan, Islamabad 44000, Pakistan\\n\\n4\\n\\nNarula Research, Chapel Hill, NC 27516, USA\\n\\n5\\n\\nDepartment of Science in Korean Medicine, College of Korean Medicine, Kyung Hee University, 24 Kyungheedae-ro,\\nDongdaemun-gu, Seoul 02447, South Korea\\n6\\n\\n*Correspondence: Muhammad Rashid Khan, Department of Biochemistry, Faculty of Biological Sciences, Quaid-i-Azam\\nUniversity, Islamabad 45320, Pakistan. mrkhanqau@yahoo.com; Kwang Seok Ahn, Department of Science in Korean Medicine,\\nCollege of Korean Medicine, Kyung Hee University, 24 Kyungheedae-ro, Dongdaemun-gu, Seoul 02447, South Korea. ksahn@\\nkhu.ac.kr\\nAcademic Editor: Gautam Sethi, National University of Singapore, Singapore\\nReceived: April 16, 2020 Accepted: May 17, 2020 Published: June 29, 2020\\n\\nCite this article: Naz I, Merarchi M, Ramchandani S, Khan MR, Malik MN, Sarwar S, et al. An overview of the anti-cancer\\nactions of Tanshinones, derived from Salvia miltiorrhiza (Danshen). Explor Target Antitumor Ther. 2020;1:153-70. https://doi.\\norg/10.37349/etat.2020.00010\\n\\n\")"
   ]
  },
  {
   "cell_type": "code",
   "execution_count": 54,
   "id": "12578c93-ca5d-4a09-a497-2530c27a673d",
   "metadata": {},
   "outputs": [
    {
     "data": {
      "text/plain": [
       "[['rojanabuddhi2@gmail.com', 'dhakal.r@live.unic.ac.cy'],\n",
       " ['mrkhanqau@yahoo.com']]"
      ]
     },
     "execution_count": 54,
     "metadata": {},
     "output_type": "execute_result"
    }
   ],
   "source": [
    "emails = list(map(lambda text: text2emails(text)[\"emails\"], headersFiltered))\n",
    "emails"
   ]
  },
  {
   "cell_type": "code",
   "execution_count": 59,
   "id": "dd793f2a-f010-4c90-bd4c-9d3af6a9f4f4",
   "metadata": {},
   "outputs": [
    {
     "name": "stdout",
     "output_type": "stream",
     "text": [
      "{\n",
      "  \"domain_name\": \"univalle.edu.co\",\n",
      "  \"registrar\": \".CO Internet S.A.S.\",\n",
      "  \"whois_server\": null,\n",
      "  \"referral_url\": null,\n",
      "  \"updated_date\": \"2022-05-26 17:01:34\",\n",
      "  \"creation_date\": \"1998-07-16 00:00:00\",\n",
      "  \"expiration_date\": \"2022-12-31 23:59:59\",\n",
      "  \"name_servers\": [\n",
      "    \"dnsase01.univalle.edu.co\",\n",
      "    \"dnsase02.univalle.edu.co\"\n",
      "  ],\n",
      "  \"status\": \"ok https://icann.org/epp#ok\",\n",
      "  \"emails\": \"soporte@cointernet.com.co\",\n",
      "  \"dnssec\": \"unsigned\",\n",
      "  \"name\": \"REDACTED FOR PRIVACY\",\n",
      "  \"org\": \"Universidad el Valle\",\n",
      "  \"address\": \"REDACTED FOR PRIVACY\",\n",
      "  \"city\": \"REDACTED FOR PRIVACY\",\n",
      "  \"state\": \"Valle del Cauca\",\n",
      "  \"registrant_postal_code\": \"REDACTED FOR PRIVACY\",\n",
      "  \"country\": \"CO\"\n",
      "}\n"
     ]
    }
   ],
   "source": [
    "# pip3 install python-whois\n",
    "import whois\n",
    "\n",
    "def is_registered(domain_name):\n",
    "    try:\n",
    "        w = whois.whois(domain_name)\n",
    "    except Exception:\n",
    "        return False\n",
    "    else:\n",
    "        return bool(w.domain_name)\n",
    "\n",
    "domain_name = \"univalle.edu.co\"\n",
    "if is_registered(domain_name):\n",
    "    whois_info = whois.whois(domain_name)\n",
    "    print(whois_info)"
   ]
  },
  {
   "cell_type": "code",
   "execution_count": null,
   "id": "9afdf5f7-4ca8-48cd-9c74-4625ab12fe64",
   "metadata": {},
   "outputs": [],
   "source": []
  }
 ],
 "metadata": {
  "kernelspec": {
   "display_name": "Python 3 (ipykernel)",
   "language": "python",
   "name": "python3"
  },
  "language_info": {
   "codemirror_mode": {
    "name": "ipython",
    "version": 3
   },
   "file_extension": ".py",
   "mimetype": "text/x-python",
   "name": "python",
   "nbconvert_exporter": "python",
   "pygments_lexer": "ipython3",
   "version": "3.8.10"
  }
 },
 "nbformat": 4,
 "nbformat_minor": 5
}
