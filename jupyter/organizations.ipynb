{
 "cells": [
  {
   "cell_type": "code",
   "execution_count": 1,
   "id": "18e42d79-8ef3-4ea2-9941-ac4d580ca668",
   "metadata": {},
   "outputs": [],
   "source": [
    "import json\n",
    "import time\n",
    "from flask import Flask, jsonify, request, Response\n",
    "import requests\n",
    "import sys\n",
    "from datetime import datetime\n",
    "\n",
    "def post_json_request(url, obj):\n",
    "    return requests.post(url, json=obj).json()"
   ]
  },
  {
   "cell_type": "code",
   "execution_count": 2,
   "id": "444e5d0f-8eae-4e7c-a02c-450b6eb8decd",
   "metadata": {},
   "outputs": [
    {
     "name": "stdout",
     "output_type": "stream",
     "text": [
      "--- 242.7404510974884 seconds ---\n"
     ]
    }
   ],
   "source": [
    "database=\"test10\"\n",
    "project=\"adc_cali\"\n",
    "start_time = time.time()\n",
    "pubmedResult = post_json_request(\n",
    "    \"http://localhost:5000/query\",\n",
    "    {\n",
    "        \"database\": database,\n",
    "        \"project\": project,\n",
    "        \"maxdocs\": 50,\n",
    "        \"patternid\": 1,\n",
    "        \"query\": \"breast[Title/Abstract] AND cancer[Title/Abstract]\",\n",
    "    },\n",
    ")[0][\"exit\"]\n",
    "print(\"--- %s seconds ---\" % (time.time() - start_time))"
   ]
  },
  {
   "cell_type": "code",
   "execution_count": 3,
   "id": "7d25f509-7147-4fae-af97-10e3330419e8",
   "metadata": {},
   "outputs": [
    {
     "name": "stdout",
     "output_type": "stream",
     "text": [
      "0\n"
     ]
    }
   ],
   "source": [
    "print(pubmedResult)"
   ]
  },
  {
   "cell_type": "code",
   "execution_count": 4,
   "id": "260f61f9-b046-45c9-a970-52328d5f8f6b",
   "metadata": {
    "tags": []
   },
   "outputs": [
    {
     "data": {
      "text/plain": [
       "dict_keys(['_id', 'title', 'abstract', 'authors', 'dbid', 'doi', 'lang', 'org', 'pat_id', 'url', 'year'])"
      ]
     },
     "execution_count": 4,
     "metadata": {},
     "output_type": "execute_result"
    }
   ],
   "source": [
    "metadata_documents = post_json_request(\n",
    "    \"http://localhost:5001/mongo-doc-list\",\n",
    "    {\n",
    "        \"db_name\": database,\n",
    "        \"coll_name\": f\"{project}_metadata_global\"\n",
    "    },\n",
    ")\n",
    "metadata_documents[0].keys()"
   ]
  },
  {
   "cell_type": "code",
   "execution_count": 5,
   "id": "12e48f87-d548-42c6-8775-2ff5fd3e84ea",
   "metadata": {
    "tags": []
   },
   "outputs": [
    {
     "data": {
      "text/plain": [
       "dict_keys(['_id', 'author', 'doc_id', 'doi'])"
      ]
     },
     "execution_count": 5,
     "metadata": {},
     "output_type": "execute_result"
    }
   ],
   "source": [
    "authors_documents = post_json_request(\n",
    "    \"http://localhost:5001/mongo-doc-list\",\n",
    "    {\n",
    "        \"db_name\": database,\n",
    "        \"coll_name\": f\"{project}_author_vs_doc_id_global\"\n",
    "    },\n",
    ")\n",
    "authors_documents[0].keys()"
   ]
  },
  {
   "cell_type": "code",
   "execution_count": 6,
   "id": "02be493f-57f9-444f-a9fc-33d72e968890",
   "metadata": {},
   "outputs": [
    {
     "data": {
      "text/plain": [
       "[{'url': None},\n",
       " {'url': 'https://link.springer.com/content/pdf/10.1007/s00018-023-04734-7.pdf'},\n",
       " {'url': None},\n",
       " {'url': None},\n",
       " {'url': None},\n",
       " {'url': None},\n",
       " {'url': None},\n",
       " {'url': None},\n",
       " {'url': None},\n",
       " {'url': None},\n",
       " {'url': None},\n",
       " {'url': None},\n",
       " {'url': None},\n",
       " {'url': None},\n",
       " {'url': None},\n",
       " {'url': None},\n",
       " {'url': None},\n",
       " {'url': None},\n",
       " {'url': None},\n",
       " {'url': None},\n",
       " {'url': None},\n",
       " {'url': None},\n",
       " {'url': None},\n",
       " {'url': None},\n",
       " {'url': 'http://www.plosone.org/article/fetchObject.action?uri=info:doi/10.1371/journal.pcbi.1010939&representation=PDF'},\n",
       " {'url': None},\n",
       " {'url': None},\n",
       " {'url': None},\n",
       " {'url': None},\n",
       " {'url': None},\n",
       " {'url': None},\n",
       " {'url': 'https://link.springer.com/content/pdf/10.1007/s10549-022-06815-w.pdf'},\n",
       " {'url': None},\n",
       " {'url': None},\n",
       " {'url': None},\n",
       " {'url': 'http://www.thelancet.com/pdfs/journals/lancet/PIIS0140-6736(22)02249-8.pdf'},\n",
       " {'url': 'http://www.thelancet.com/pdfs/journals/lancet/PIIS0140-6736(22)02241-3.pdf'},\n",
       " {'url': None},\n",
       " {'url': None},\n",
       " {'url': None},\n",
       " {'url': None},\n",
       " {'url': None},\n",
       " {'url': None},\n",
       " {'url': 'http://europepmc.org/backend/ptpmcrender.fcgi?accid=PMC10020071&blobtype=pdf'},\n",
       " {'url': None},\n",
       " {'url': 'http://europepmc.org/backend/ptpmcrender.fcgi?accid=PMC10020396&blobtype=pdf'},\n",
       " {'url': None},\n",
       " {'url': None},\n",
       " {'url': None},\n",
       " {'url': None}]"
      ]
     },
     "execution_count": 6,
     "metadata": {},
     "output_type": "execute_result"
    }
   ],
   "source": [
    "urlList=list(map(lambda document: {\"url\": document[\"url\"]}, metadata_documents))\n",
    "urlList"
   ]
  },
  {
   "cell_type": "code",
   "execution_count": 7,
   "id": "65f41ae2-767c-45aa-a75c-9460ba211a19",
   "metadata": {},
   "outputs": [
    {
     "name": "stdout",
     "output_type": "stream",
     "text": [
      "avaliable pdfs: 14.000000000000002%\n"
     ]
    }
   ],
   "source": [
    "availablePDFs=len(list([url_dict[\"url\"]] for url_dict in urlList if url_dict[\"url\"]))/len(urlList)*100\n",
    "print(f\"avaliable pdfs: {availablePDFs}%\")"
   ]
  },
  {
   "cell_type": "code",
   "execution_count": 8,
   "id": "37a3de6b-5e50-4274-b514-4e4debc92199",
   "metadata": {},
   "outputs": [
    {
     "data": {
      "text/plain": [
       "{'htext': 'MEDICINE INTERNATIONAL 3: 11, 2023\\n\\nThe combination of positive anti‑WDR1 antibodies with\\nnegative anti‑CFL1 antibodies in serum is a poor prognostic\\nfactor for patients with esophageal carcinoma\\nMASAAKI ITO1, SATOSHI YAJIMA2, TAKASHI SUZUKI2, YOKO OSHIMA2, TATSUKI NANAMI2,\\nMAKOTO SUMAZAKI2, FUMIAKI SHIRATORI2, HAO WANG3,4, LIUBING HU4, HIROTAKA TAKIZAWA5,\\nSHU‑YANG LI6, YASUO IWADATE6, TAKAKI HIWASA1,6 and HIDEAKI SHIMADA1,2\\n1\\n\\nDepartment of Clinical Oncology, Toho University Graduate School of Medicine; 2Department of Gastroenterological Surgery,\\nToho University School of Medicine, Tokyo 143‑8541, Japan; 3Stroke Center, The First Affiliated Hospital, Jinan University;\\n4\\nDepartment of Anesthesiology, Stroke Center, The First Affiliated Hospital and Health Science Center, Jinan University,\\nGuangzhou, Guangdong 510630, P.R. China; 5Port Square Kashiwado Clinic, Kashiwado Memorial Foundation,\\nChiba 260‑0025; 6Department of Neurological Surgery, Graduate School of Medicine, Chiba University, Chiba 260‑8670, Japan\\nReceived October 8, 2022; Accepted January 23, 2023\\nDOI: 10.3892/mi.2023.71\\n\\nAbstract. WD repeat‑containing protein 1 (WDR1) regulates\\nthe cofilin 1 (CFL1) activity, promotes cytoskeleton remod‑\\neling, and thus, facilitates cell migration and invasion. A\\nprevious study reported that autoantibodies against CFL1 and\\nβ‑actin were useful biomarkers for diagnosing and predicting\\nthe prognosis of patients with esophageal carcinoma.\\nTherefore, the present study aimed to evaluate the serum\\nlevels of anti‑WDR1 antibodies (s‑WDR1‑Abs) combined\\nwith serum levels of anti‑CFL1 antibodies (s‑CFL1‑Abs) in\\npatients with esophageal carcinoma. Serum samples obtained\\nfrom 192 patients with esophageal carcinoma and other solid\\ncancers. And s‑WDR1‑Ab and s‑CFL1‑Ab titers were analyzed\\nusing the amplified luminescent proximity homogeneous\\nassay‑linked immunosorbent assay. Compared with those\\nof healthy donors, the s‑WDR1‑Ab levels were significantly\\nhigher in the 192 patients with esophageal, whereas these\\nwere not significantly higher in the samples from patients with\\ngastric, colorectal, lung, or breast cancer. In 91 patients treated\\nwith surgery, sex, tumor depth, lymph node metastasis, stage\\nand C‑reactive protein levels were significantly associated\\nwith overall survival, as determined using the log‑rank test,\\nwhereas the squamous cell carcinoma antigen, p53 antibody\\nand s‑WDR1‑Ab levels tended to be associated with a worse\\nprognosis. Although no significant difference was observed\\nin the survival between the positive and negative groups of\\n\\nCorrespondence to: Dr Hideaki Shimada, Department of\\nGastroenterological Surgery, Toho University School of Medicine,\\n6‑11‑1 Omori‑Nishi, Ota‑ku, Tokyo 143‑8541, Japan\\nE‑mail: hideaki.shimada@med.toho‑u.ac.jp\\n\\nKey words: WD repeat‑containing protein 1, cofilin 1, esophageal\\ncarcinoma, antibody biomarker, overall survival\\n\\ns‑WDR1‑Abs or s‑CFL1‑Abs alone in the Kaplan‑Meier test,\\nthe patients in the s‑WDR1‑Ab‑positive and s‑CFL1‑Ab‑nega‑\\ntive groups exhibited a significantly poorer prognosis in the\\noverall survival analysis. On the whole, the present study\\ndemonstrates that the combination of positive anti‑WDR1 anti‑\\nbodies with negative anti‑CFL1 antibodies in serum may be a\\npoor prognostic factor for patients with esophageal carcinoma.\\nIntroduction\\nEsophageal carcinoma is a rapidly progressive disease and\\nis life‑threatening even at the early stages. The therapeutic\\nefficacy of esophageal carcinoma is less satisfactory than that\\nof several other types of cancer; therefore, the detection and\\ndiagnosis at the early stage of carcinoma are indispensable for\\nimproving the therapeutic outcomes of patients (1).\\nThe serum levels of several antigens and antibodies have\\nlong been measured using the serological analysis of recom‑\\nbinant tumor cDNA expression libraries (SEREX) method, a\\nuseful screening method for tumor markers (2). SEREX uses\\npatient serum to immunoscreen cDNA libraries prepared from\\ncancer specimens. By sequencing the isolated cDNA clones,\\nthe SEREX method is suitable as for the large‑scale screening\\nfor tumor antigens. Large‑scale SEREX screening has already\\nidentified numerous antibodies or antigens, such as trophoblast\\ncell surface antigen 2 (3), solute carrier family 2 member 1 (4),\\nstriatin 4 (5), LDL receptor related protein associated protein\\n1 (6), proprotein convertase subtilisin/kexin type 9 (7), cofilin\\n1 (CFL1) and β ‑actin (ACTB) (8). CFL1 can depolymerize\\nF‑actin in a pH‑dependent manner and is also involved in lung,\\npancreatic, and gastric cancer invasion and metastasis (9‑11).\\nWD repeat‑containing protein 1 (WDR1; also known as\\nactin‑interacting protein 1) regulates cofilin activity, promotes\\ncytoskeletal remodeling, and thus facilitates cell migration and\\ninvasion (12). The presence of autoantibodies against WDR1\\nhas been found in the sera of patients who have suffered a\\ntransient ischemic attack using SEREX screening (13). The\\n\\n\\x0c'}"
      ]
     },
     "execution_count": 8,
     "metadata": {},
     "output_type": "execute_result"
    }
   ],
   "source": [
    "def url2head(url):\n",
    "    try:\n",
    "        return post_json_request(\n",
    "            \"http://localhost:5002/url2htext\",\n",
    "            { \"url\": url }\n",
    "        )\n",
    "    except:\n",
    "        return {\"htext\": \"\"}\n",
    "url2head(\"http://europepmc.org/backend/ptpmcrender.fcgi?accid=PMC9983066&blobtype=pdf\")"
   ]
  },
  {
   "cell_type": "code",
   "execution_count": 9,
   "id": "47e9632c-4336-4cc2-9a6b-4186b69bce13",
   "metadata": {},
   "outputs": [
    {
     "data": {
      "text/plain": [
       "[{'url': 'https://link.springer.com/content/pdf/10.1007/s00018-023-04734-7.pdf'},\n",
       " {'url': 'http://www.plosone.org/article/fetchObject.action?uri=info:doi/10.1371/journal.pcbi.1010939&representation=PDF'},\n",
       " {'url': 'https://link.springer.com/content/pdf/10.1007/s10549-022-06815-w.pdf'},\n",
       " {'url': 'http://www.thelancet.com/pdfs/journals/lancet/PIIS0140-6736(22)02249-8.pdf'},\n",
       " {'url': 'http://www.thelancet.com/pdfs/journals/lancet/PIIS0140-6736(22)02241-3.pdf'},\n",
       " {'url': 'http://europepmc.org/backend/ptpmcrender.fcgi?accid=PMC10020071&blobtype=pdf'},\n",
       " {'url': 'http://europepmc.org/backend/ptpmcrender.fcgi?accid=PMC10020396&blobtype=pdf'}]"
      ]
     },
     "execution_count": 9,
     "metadata": {},
     "output_type": "execute_result"
    }
   ],
   "source": [
    "urls = list(filter(lambda url: url[\"url\"] != None, urlList))\n",
    "urls"
   ]
  },
  {
   "cell_type": "code",
   "execution_count": 10,
   "id": "bd528fd0-a3db-41ef-bc52-c905c576f323",
   "metadata": {},
   "outputs": [
    {
     "name": "stdout",
     "output_type": "stream",
     "text": [
      "--- 59.59257197380066 seconds ---\n"
     ]
    },
    {
     "data": {
      "text/plain": [
       "['Cellular and Molecular Life Sciences\\n(2023) 80:100\\nhttps://doi.org/10.1007/s00018-023-04734-7\\n\\nCellular and Molecular Life Sciences\\n\\nORIGINAL ARTICLE\\n\\nLoss of Kmt2c in vivo leads to EMT, mitochondrial dysfunction\\nand improved response to lapatinib in breast cancer\\nNikiana Simigdala1 · Anna Chalari1 · Aimilia D. Sklirou2 · Evangelia Chavdoula1,3,4 · George Papafotiou1 ·\\nPelagia Melissa1 · Aimilia Kafalidou1 · Nikolaos Paschalidis1 · Ioannis S. Pateras5 · Emmanouil Athanasiadis1 ·\\nDimitris Konstantopoulos6 · Ioannis P. Trougakos2 · Apostolos Klinakis1\\nReceived: 4 May 2022 / Revised: 22 January 2023 / Accepted: 22 February 2023\\n© The Author(s) 2023\\n\\nAbstract\\nDeep sequencing of human tumours has uncovered a previously unappreciated role for epigenetic regulators in tumorigenesis.\\nH3K4 methyltransferase KMT2C/MLL3 is mutated in several solid malignancies, including more than 10% of breast tumours.\\nTo study the tumour suppressor role of KMT2C in breast cancer, we generated mouse models of Erbb2/Neu, Myc or PIK3CAdriven tumorigenesis, in which the Kmt2c locus is knocked out specifically in the luminal lineage of mouse mammary glands\\nusing the Cre recombinase. Kmt2c knock out mice develop tumours earlier, irrespective of the oncogene, assigning a bona\\nfide tumour suppressor role for KMT2C in mammary tumorigenesis. Loss of Kmt2c induces extensive epigenetic and transcriptional changes, which lead to increased ERK1/2 activity, extracellular matrix re-organization, epithelial-to-mesenchymal\\ntransition and mitochondrial dysfunction, the latter associated with increased reactive oxygen species production. Loss of\\nKmt2c renders the Erbb2/Neu-driven tumours more responsive to lapatinib. Publicly available clinical datasets revealed\\nan association of low Kmt2c gene expression and better long-term outcome. Collectively, our findings solidify the role of\\nKMT2C as a tumour suppressor in breast cancer and identify dependencies that could be therapeutically amenable.\\nKeywords KMT2C · Tumour suppressor · EMT · Breast cancer · Mitochondrial respiration · Lapatinib\\n* Nikiana Simigdala\\nnsimigdala@bioacademy.gr\\n\\nDimitris Konstantopoulos\\nkonstantopoulos@fleming.gr\\n\\n* Apostolos Klinakis\\naklinakis@bioacademy.gr\\n\\nIoannis P. Trougakos\\nitrougakos@biol.uoa.gr\\n\\nAnna Chalari\\nachalari@bioacademy.gr\\n\\n1\\n\\nAimilia D. Sklirou\\nasklirou@biol.uoa.gr\\n\\nPresent Address: Biomedical Research Foundation Academy\\nof Athens, Athens, Greece\\n\\n2\\n\\nEvangelia Chavdoula\\nechavdoula@gmail.com\\n\\nDepartment of Cell Biology and Biophysics, Faculty\\nof Biology, National and Kapodistrian University of Athens,\\nAthens, Greece\\n\\n3\\n\\nGeorge Papafotiou\\ngeo.papafotiou@gmail.com\\n\\nDepartment of Cancer Biology and Genetics, The Ohio State\\nUniversity, Columbus, OH, USA\\n\\n4\\n\\nThe Ohio State University Comprehensive Cancer\\nCenter-Arthur G. James Cancer Hospital and Richard\\nJ. Solove Research Institute, Columbus, OH, USA\\n\\n5\\n\\n2nd Department of Pathology, Medical School, “Attikon”\\nUniversity Hospital, National and Kapodistrian University\\nof Athens, Athens, Greece\\n\\n6\\n\\nInstitute for Fundamental Biomedical Research, BSRC\\n‘Alexander Fleming’, 16672 Vari, Greece\\n\\nPelagia Melissa\\npmelissa@bioacademy.gr\\nAimilia Kafalidou\\nakafalidou@bioacademy.gr\\nNikolaos Paschalidis\\nnpaschal@bioacademy.gr\\nIoannis S. Pateras\\nipateras@med.uoa.gr\\nEmmanouil Athanasiadis\\nmathan@bioacademy.gr\\n\\n13\\n\\nVol.:(0123456789)\\n\\n\\x0c',\n",
       " 'PLOS COMPUTATIONAL BIOLOGY\\n\\nRESEARCH ARTICLE\\n\\nPCB: A pseudotemporal causality-based\\nBayesian approach to identify EMT-associated\\nregulatory relationships of AS events and\\nRBPs during breast cancer progression\\nLiangjie Sun1, Yushan Qiu ID2*, Wai-Ki Ching1, Pu Zhao3, Quan Zou ID4\\n\\na1111111111\\na1111111111\\na1111111111\\na1111111111\\na1111111111\\n\\n1 Department of Mathematics, The University of Hong Kong, Hong Kong, China, 2 College of Mathematics\\nand Statistics, Shenzhen University, Shenzhen, China, 3 College of Life and Health Sciences, Northeastern\\nUniversity, Shenyang, China, 4 Institute of Fundamental and Frontier Sciences, University of Electronic\\nScience and Technology of China, Chengdu, China\\n* yushanqiu2526374@163.com\\n\\nAbstract\\nOPEN ACCESS\\nCitation: Sun L, Qiu Y, Ching W-K, Zhao P, Zou Q\\n(2023) PCB: A pseudotemporal causality-based\\nBayesian approach to identify EMT-associated\\nregulatory relationships of AS events and RBPs\\nduring breast cancer progression. PLoS Comput\\nBiol 19(3): e1010939. https://doi.org/10.1371/\\njournal.pcbi.1010939\\nEditor: Ananda Mondal, Florida International\\nUniversity, UNITED STATES\\nReceived: July 19, 2022\\nAccepted: February 9, 2023\\nPublished: March 17, 2023\\nCopyright: © 2023 Sun et al. This is an open\\naccess article distributed under the terms of the\\nCreative Commons Attribution License, which\\npermits unrestricted use, distribution, and\\nreproduction in any medium, provided the original\\nauthor and source are credited.\\nData Availability Statement: Processed TCGA\\nBRCA Level 3 RNA-SeqV2 gene expression data\\nwere downloaded from the Genomic Data\\nCommons (GDC) Legacy Archive (https://portal.\\ngdc.cancer.gov/legacy-archive) The data and code\\nfor PCB are available at: http://hkumath.hku.hk/\\n*wkc/PCB(data+code).zip.\\nFunding: YQ was supported by grants from the\\nNational Natural Science Foundation of China\\n[grant number 62002234] the Guangdong Basic\\n\\nDuring breast cancer metastasis, the developmental process epithelial-mesenchymal (EM)\\ntransition is abnormally activated. Transcriptional regulatory networks controlling EM transition are well-studied; however, alternative RNA splicing also plays a critical regulatory role\\nduring this process. Alternative splicing was proved to control the EM transition process,\\nand RNA-binding proteins were determined to regulate alternative splicing. A comprehensive understanding of alternative splicing and the RNA-binding proteins that regulate it during EM transition and their dynamic impact on breast cancer remains largely unknown. To\\naccurately study the dynamic regulatory relationships, time-series data of the EM transition\\nprocess are essential. However, only cross-sectional data of epithelial and mesenchymal\\nspecimens are available. Therefore, we developed a pseudotemporal causality-based\\nBayesian (PCB) approach to infer the dynamic regulatory relationships between alternative\\nsplicing events and RNA-binding proteins. Our study sheds light on facilitating the regulatory\\nnetwork-based approach to identify key RNA-binding proteins or target alternative splicing\\nevents for the diagnosis or treatment of cancers. The data and code for PCB are available\\nat: http://hkumath.hku.hk/*wkc/PCB(data+code).zip.\\n\\nAuthor summary\\nIn this paper, pseudotime causality-based Bayesian (PCB) model is proposed to detect the\\nregulatory relationships between alternative splicing events and RNA-binding proteins in\\nthe EM transition process of breast cancer. It is the first time to reveal the global role of\\nalternative splicing events and RNA-binding proteins during EM transition, in which\\nRNA-binding proteins can dynamically regulate alternative splicing. Furthermore, to\\naddress the challenges that lack of temporal information in sample-based transcriptomic\\ndata, we propose to decode the latent temporal information underlying cancer progression through ordering patient sample based on transcriptomic similarity, and design a\\n\\nPLOS Computational Biology | https://doi.org/10.1371/journal.pcbi.1010939 March 17, 2023\\n\\n1 / 24\\n\\n\\x0c',\n",
       " 'Breast Cancer Research and Treatment\\nhttps://doi.org/10.1007/s10549-022-06815-w\\n\\nEPIDEMIOLOGY\\n\\nPost-diagnostic statin use and breast cancer‑specific mortality:\\na population‑based cohort study\\nOliver William Scott1\\nJ. Mark Elwood1\\n\\n· Sandar TinTin1 · Sixten Harborg2 · Marion J. J. Kuper‑Hommel3 · Ross Lawrenson4 ·\\n\\nReceived: 5 September 2022 / Accepted: 9 November 2022\\n© The Author(s) 2023\\n\\nAbstract\\nPurpose Statins are the most widely prescribed cholesterol lowering medications and have been associated with both\\nimproved and unchanged breast cancer outcomes in previous studies. This study examines the association between the\\npost-diagnostic use of statins and breast cancer outcomes (death and recurrence) in a large, representative sample of New\\nZealand (NZ) women with breast cancer.\\nMethods Women diagnosed with a first primary breast cancer between 2007 and 2016 were identified from four populationbased regional NZ breast cancer registries and linked to national pharmaceutical data, hospital discharges, and death records.\\nCox proportional hazard models were used to estimate the hazard of breast cancer-specific death (BCD) associated with any\\npost-diagnostic statin use.\\nResults Of the 14,976 women included in analyses, 27% used a statin after diagnosis and the median follow up time was\\n4.51 years. Statin use (vs non-use) was associated with a statistically significant decreased risk of BCD (adjusted hazard\\nratio: 0.74; 0.63–0.86). The association was attenuated when considering a subgroup of ‘new’ statin users (HR: 0.91;\\n0.69–1.19), however other analyses revealed that the protective effect of statins was more pronounced in estrogen receptor\\npositive patients (HR: 0.77; 0.63–0.94), postmenopausal women (HR: 0.74; 0.63–0.88), and in women with advanced stage\\ndisease (HR: 0.65; 0.49–0.84).\\nConclusion In this study, statin use was associated with a statistically significant decreased risk of breast cancer death, with\\nsubgroup analyses revealing a more protective effect in ER+ patients, postmenopausal women, and in women with advanced\\nstage disease. Further research is warranted to determine if these associations are replicated in other clinical settings.\\nKeywords Breast cancer · Mortality · Statins · Pharmacoepidemiology · Cohort study\\n\\nIntroduction\\n\\n* Oliver William Scott\\no.scott@auckland.ac.nz\\n1\\n\\nDepartment of Epidemiology and Biostatistics, School\\nof Population Health, University of Auckland, Building 507,\\n85 Park Road, Grafton, Auckland 1023, New Zealand\\n\\n2\\n\\nDepartment of Oncology, Aarhus University Hospital/Aarhus\\nUniversity, Entrance C, Level 1, C118, Palle Juul‑Jensens\\nBoulevard 99, 8200 Aarhus N, Denmark\\n\\n3\\n\\nDepartment of Oncology, Waikato District Health Board,\\nHamilton, New Zealand\\n\\n4\\n\\nDepartment of NIDEA (National Institute of Demographic\\nand Economic Analysis), Waikato Medical Research Centre,\\nUniversity of Waikato, Hamilton, New Zealand\\n\\nBreast cancer is the most common cancer in women and\\nthe leading cause of female cancer mortality worldwide [1].\\nComorbidities are common in patients with breast cancer\\n[2], and there is a high and increasing prevalence of risk\\nfactors for both breast cancer and ischemic heart disease\\namong Western women [3–5]. As such, many patients with\\nbreast cancer use prescribed medications for cardiovascular\\nconditions. Examining the association between commonly\\nused cardiovascular medications and breast cancer outcomes\\nis therefore warranted. Statins (3-hydroxy-3-methylglutaryl\\ncoenzyme A reductase inhibitors) are the most widely prescribed cholesterol lowering medications [6] and are used for\\nboth the primary and secondary prevention of cardiovascular\\ndisease [7].\\n\\n13\\n\\nVol.:(0123456789)\\n\\n\\x0c',\n",
       " 'Meeting Abstracts\\n\\nSmoking cessation interventions for smokers diagnosed\\nwith cancer: a systematic review\\nKate Frazer, Nancy Bhardwaj, Patricia Fox, Vikram Niranjan, Diarmuid Stokes, Seamus Quinn, Cecily C Kelleher, Patricia Fitzpatrick\\n\\nAbstract\\n\\nBackground Smoking continuation or uptake after a diagnosis of cancer is associated with decreased treatment\\nefficacy, health deterioration, and worse survival outcomes; nonetheless, many patients with cancer continue smoking\\nafter their diagnosis. The extent and effectiveness of smoking cessation services in this cohort is poorly understood,\\nbut engagement with smoking cessation services is known to be scarce. The aim of this systematic review was to\\nidentify interventions for smokers diagnosed with cancer, as part of a larger study to develop a quit pathway.\\nMethods We searched PubMed, Embase, PsycInfo, and the Cumulative Index to Nursing and Allied Health Literature\\ndatabase for articles published between Jan 1, 2015, and Dec 15, 2020, in English, reporting an intervention for\\nsmokers aged 18 years or older with a diagnosis of lung, breast, cervical, or head and neck cancer (smoking-related\\ncancers), and with no restriction on study design. Outcomes included intervention descriptions and quit rates. Data\\nwere independently screened, extracted, and assessed for quality. This systematic review is registered with the\\nInternational Prospective Register of Systematic Reviews (number CRD42020214204).\\nFindings 4293 unique records were found, of which 23 studies (nine randomised controlled trials, ten observational\\nstudies, three quality improvement studies, and one qualitative study met the inclusion criteria. Studies included\\nbetween 11 and 2652 participants. 17 (74%) studies reported data from the USA, with the remainder 6 (26%) reporting\\ndata from Canada, Australia, Lebanon, and England. Ten (43%) studies reported data from head and neck cancer,\\nthree (13%) from lung cancer, one (4%) for breast cancer, and the remaining nine studies (39%) reported combined\\ndata for multiple cancers. Duration of smoking cessation interventions ranged between 1 month and 24 months. The\\nheterogeneity of the data prompted a narrative synthesis. Key smoking cessation interventions included long-term\\nuse of pharmacotherapy, high tech e-referral systems, national quitting programmes, quitting apps, enhanced\\ncounselling, and an opt-out referral system. Four randomised controlled trials and four observational studies reported\\nsustained quit attempts. Factors associated with quitting included timing and frequency of quitting conversations\\n(pre-operatively), extended use of varenicline (up to 24 weeks), and counselling. Patient challenges included pain,\\nfatigue, guilt, and lack of confidence.\\n\\nPublished Online\\nNovember 24, 2022\\nUniversity College Dublin,\\nDublin, Ireland (K Frazer PhD,\\nN Bhardwaj MD, P Fox PhD,\\nV Niranjan PhD, D Stokes MSc,\\nS Quinn, Prof C C Kelleher MD,\\nProf P Fitzpatrick MD);\\nSt Vincent’s University\\nHospital, Dublin, Ireland\\n(Prof C C Kelleher,\\nProf P Fitzpatrick)\\nCorrespondence to:\\nAssoc Prof Kate Frazer, University\\nCollege Dublin,\\nDublin D04 V1W8, Ireland\\nkathleen.frazer@ucd.ie\\n\\nInterpretation A multifaceted approach including personalised treatment plans is needed to promote smoking\\ncessation in patients with cancer.\\nFunding Irish Cancer Society (grant SCA19FIT).\\nCopyright © 2022 Published by Elsevier Ltd. All rights reserved.\\nContributors\\nKF, CCK, and PFi conceptualised the study. DS and KF developed the search strategy. DS searched for data. KF, NB, VN, PFo, and PFi screened,\\nextracted, assessed the quality, and analysed the data. KF drafted the manuscript. All authors critically reviewed and have seen and approved the final\\nversion of the abstract for publication.\\nDeclaration of interests\\nWe declare no competing interests.\\n\\nwww.thelancet.com\\n\\n39\\n\\n\\x0c',\n",
       " 'Meeting Abstracts\\n\\nUltra-processed food consumption, cancer risk, and cancer\\nmortality: a prospective cohort study of the UK Biobank\\nKiara Chang, Christopher Millett, Fernanda Rauber, Renata B Levy, Inge Huybrechts, Nathalie Kliemann, Marc J Gunter, Eszter P Vamos\\n\\nAbstract\\n\\nBackground Dietary patterns worldwide are increasingly displaced by many cheap, highly palatable, and ready-to-eat\\nultra-processed foods (UPFs). Higher UPF consumption has been linked to increased risk for obesity and\\ncardiometabolic diseases, but prospective evidence is limited on cancer outcomes. This study aimed to examine the\\nassociation between UPF consumption and risk for overall and site-specific cancer incidence and cancer mortality\\nusing the UK Biobank cohort.\\nMethods 197 426 participants of the UK Biobank from England, Scotland, and Wales with 24-h dietary recall completed\\nbetween 2009 and 2012 were included. Incident cancer cases were identified through data linkage to national cancer\\nand mortality registries. Food items consumed were categorised according to their degree of food processing using\\nthe NOVA classification system. Individual UPF consumption were derived as a percentage of daily food intake.\\nProspective association was assessed using multivariable Cox proportional hazards models adjusted for baseline\\nsociodemographic and lifestyle characteristics. For female-specific cancers, menopausal status, use of oral\\ncontraceptives, hormone replacement therapy, and parity were additionally adjusted.\\nFindings Mean age was 58·0 years (SD 8·0); 54·6% of participants were women. During a median follow-up time of\\n9·8 years (IQR 9·4–10·6), 15 921 (8∙1%) of 197 426 individuals developed cancer and 4009 (2∙0%) cancer deaths were\\nencountered. Consumption of UPFs was associated with a higher incidence of overall cancer (hazard ratio per 10%\\nincrement in UPF consumption was 1·02 [95% CI 1·01–1·04]; p=0∙005) and ovarian cancer in females\\n(1·19 [1·08–1·30]; p<0∙001). Positive associations were identified for mortality of overall, breast, and ovarian cancers.\\nInterpretation This large UK cohort study presents evidence of positive associations between UPF consumption and\\nrisks for incidence and mortality of overall and certain site-specific cancers. Limitations include non-representativeness\\nhaving based on a cohort of middle-aged volunteers, insufficient details for some food items although a conservative\\napproach was undertaken classifying foods to lower processing categories, and potential residual confounding due to\\nthe observational nature of the data. Further investigation into the mechanistic pathways is warranted to better\\nidentify targets for intervention.\\n\\nPublished Online\\nNovember 24, 2022\\nPublic Health Policy Evaluation\\nUnit, Imperial College London,\\nLondon, UK (K Chang PhD,\\nProf C Millett PhD,\\nE P Vamos PhD); Center for\\nEpidemiological Research in\\nNutrition and Health\\n(F Rauber PhD, R B Levy PhD)\\nand Department of Preventive\\nMedicine, School of Medicine\\n(F Rauber, R B Levy), University\\nof São Paulo, São Paulo, Brazil;\\nNutrition and Metabolism\\nBranch, International Agency\\nfor Research on Cancer, Lyon,\\nFrance (I Huybrechts PhD,\\nN Kliemann PhD,\\nM J Gunter PhD)\\nCorrespondence to:\\nDr Kiara Chang, Public Health\\nPolicy Evaluation Unit, Imperial\\nCollege London, London W6 8RP,\\nUK\\nchu-mei.chang@imperial.ac.uk\\n\\nFunding Cancer Research UK and World Cancer Research Fund.\\nCopyright © 2022 Published by Elsevier Ltd. All rights reserved.\\nContributors\\nKC, EPV, and CM conceptualised the study. KC did the statistical analyses and drafted the Abstract. All authors critically reviewed for intellectual\\ncontent and contributed to interpretations. All authors have seen and approved the final version of the Abstract for publication.\\nDeclaration of interests\\nWe declare no competing interests.\\nAcknowledgments\\nThis study was supported by Cancer Research UK (C33493/A29678) and funded by the World Cancer Research Fund (IIG_FULL_2020_033), as part\\nof the World Cancer Research Fund International grant programme. This research has been conducted using the UK Biobank Resource under\\nApplication Number 29239.\\n\\nwww.thelancet.com\\n\\n31\\n\\n\\x0c',\n",
       " 'Supportive Care in Cancer\\n(2023) 31:218\\nhttps://doi.org/10.1007/s00520-023-07663-0\\n\\nRESEARCH\\n\\nTraditional and new lifestyle interventions to prevent breast cancer\\nrecurrence (TANICA): a qualitative study\\nTanisha F. Aflague1 · Monica K. Esquivel2\\nJoseph Keawe‘aimoku Kaholokula3\\n\\n· Kristi Hammond1\\n\\n· Bernice Delos Reyes2\\n\\n·\\n\\nReceived: 15 October 2022 / Accepted: 27 February 2023\\nThis is a U.S. Government work and not under copyright protection in the US; foreign copyright protection may apply 2023\\n\\nAbstract\\nPurpose Breast cancer is the second cause of death from cancer in Guam and Hawai‘i and disproportionately impacts Native\\nHawaiian, CHamoru, and Filipino women. Although a few culturally informed interventions addressing breast cancer survivorship exist, none have been developed or tested for Native Hawaiian, CHamoru, and Filipino women. To address this,\\nthe TANICA study began with key informant interviews in 2021.\\nMethods Purposive sampling and grounded theory approaches were used to conduct semi-structured interviews with individuals experienced in providing healthcare or implementing community programs and/or research with ethnic groups of\\ninterest in Guam and Hawai‘i. A literature review and expert consultation identified intervention components, engagement\\nstrategies, and settings. Interview questions aimed to understand the relevance of evidence-based interventions and explored\\nsocio-cultural factors. Participants completed demographics and cultural affiliation surveys. Interviews were independently\\nanalyzed by trained researchers. Themes were mutually agreed upon by reviewers and key themes were identified based on\\nfrequencies.\\nResults Nineteen interviews were conducted in Hawai‘i (n=9) and Guam (n=10). Interviews confirmed the relevance of most\\nof the previously identified evidence-based intervention components for Native Hawaiian, CHamoru, and Filipino breast\\ncancer survivors. Ideas around culturally responsive intervention components and strategies emerged that were shared across\\nand unique to each ethnic group and site.\\nConclusion Evidence-based intervention components appear relevant, yet cultural and place-based strategies are needed\\nfor Native Hawaiian, CHamoru, and Filipino women in Guam and Hawai‘i. Future research should triangulate these findings with the lived experiences of Native Hawaiian, CHamoru, and Filipino breast cancer survivors to develop culturally\\ninformed interventions.\\nKeywords Breast cancer · Native Hawaiian · Pacific Islanders · Asians · Obesity\\n\\n1\\n\\nUniversity of Guam, College of Natural and Applied\\nSciences, Mangilao, Guam, USA\\n\\nMonica K. Esquivel\\nmonicake@hawaii.edu\\n\\n2\\n\\nUniversity of Hawai‘i, College of Tropical Agriculture\\nand Human Resources, Honolulu, Hawai‘i, USA\\n\\nKristi Hammond\\nkristimh@hawaii.edu\\n\\n3\\n\\nUniversity of Hawai‘i, John A Burns School of Medicine,\\nHonolulu, Hawai‘i, USA\\n\\n* Tanisha F. Aflague\\ntaflague@triton.uog.edu\\n\\nBernice Delos Reyes\\nbernice7@hawaii.edu\\nJoseph Keawe‘aimoku Kaholokula\\nkaholoku@hawaii.edu\\n\\n13\\n\\nVol.:(0123456789)\\n\\n\\x0c',\n",
       " '(2023) 14:46\\nZhang et al. Insights into Imaging\\nhttps://doi.org/10.1186/s13244-023-01387-9\\n\\nORIGINAL ARTICLE\\n\\nOpen Access\\n\\nCorrelation of androgen receptor\\nwith ultrasound, clinicopathological features\\nand clinical outcomes in breast cancer\\nXudong Zhang1†, Hao Cui1†, Nana Hu1, Peng Han1, Wei Fan1, Panting Wang1, Xiaoxuan Zuo1, Dantong Zhao1,\\nHe Huang2, Shuo Li2, Hanqing Kong1, Fuhui Peng1, Jiawei Tian1 and Lei Zhang1* \\u200a\\u200a\\n\\nAbstract\\nBackground This study aimed to explore whether there is an association between androgen receptor (AR) expression and ultrasound, clinicopathological features and prognosis of breast cancer.\\nMethods A total of 141 breast cancer patients were included in this retrospective study. AR expression was analyzed\\nby immunohistochemistry. The images of B-mode, color Doppler and strain elastography from 104 patients were collected continuously, and the corresponding ultrasound characteristics were obtained. The differences in ultrasound\\nand clinicopathological features in different AR status were analyzed. Progression-free survival (PFS) of patients was\\nobtained through up to 90 months of follow-up; then, the effect of AR on PFS was analyzed. Subsequently, a nomogram was constructed to predict the AR status. The predictive accuracy was calculated using C-index.\\nResults The positive expression of AR (AR +) was associated with lower histological grade (p = 0.034) and lower Ki-67\\nlevel (p = 0.029). Triple-negative breast cancer (TNBC) had the lowest probability of AR + (p < 0.001). The AR + group\\nmostly showed unsmooth margin (p < 0.001), posterior acoustic shadowing (p = 0.002) and higher elasticity score\\n(p = 0.022) on ultrasound. The echo pattern of most tumors with AR + was heterogeneous (p = 0.024) in Luminal A\\nsubtype. AR + could be a sign of a better prognosis in overall breast cancer (p < 0.001), as well as in human epidermal growth factor receptor 2 (HER2) overexpression and Luminal B subtypes (p = 0.001 and 0.025). The nomogram\\nshowed relatively reliable performance with a C-index of 0.799.\\nConclusion Our research demonstrated that AR expression was closely related to ultrasound, clinicopathological\\nfeatures and prognosis of breast cancer.\\nKey points\\n• In terms of clinicopathology, the probability of AR expression in different subtypes of breast cancer was various,\\nand the positive expression of AR was associated with lower histological grade and lower Ki-67 level.\\n\\n†\\n\\nXudong Zhang and Hao Cui contributed equally to this work and equal first\\nauthors.\\n*Correspondence:\\nLei Zhang\\nzhanglei6@hrbmu.edu.cn\\nFull list of author information is available at the end of the article\\n© The Author(s) 2023. Open Access This article is licensed under a Creative Commons Attribution 4.0 International License, which\\npermits use, sharing, adaptation, distribution and reproduction in any medium or format, as long as you give appropriate credit to the\\noriginal author(s) and the source, provide a link to the Creative Commons licence, and indicate if changes were made. The images or\\nother third party material in this article are included in the article’s Creative Commons licence, unless indicated otherwise in a credit line\\nto the material. If material is not included in the article’s Creative Commons licence and your intended use is not permitted by statutory\\nregulation or exceeds the permitted use, you will need to obtain permission directly from the copyright holder. To view a copy of this\\nlicence, visit http://\\u200bcreat\\u200biveco\\u200bmmons.\\u200borg/\\u200blicen\\u200bses/\\u200bby/4.\\u200b0/.\\n\\n\\x0c']"
      ]
     },
     "execution_count": 10,
     "metadata": {},
     "output_type": "execute_result"
    }
   ],
   "source": [
    "start_time = time.time()\n",
    "headers = list(map(lambda url: url2head(url[\"url\"])[\"htext\"], urls))\n",
    "print(\"--- %s seconds ---\" % (time.time() - start_time))\n",
    "headers"
   ]
  },
  {
   "cell_type": "code",
   "execution_count": 11,
   "id": "0f08c771-591e-4636-9a8c-226dbb6cd8af",
   "metadata": {},
   "outputs": [
    {
     "data": {
      "text/plain": [
       "{'locations': ['Tanshinones',\n",
       "  'Salvia',\n",
       "  'Biochemistry',\n",
       "  'Pakistan',\n",
       "  'Pharmacy',\n",
       "  'Paris Descartes',\n",
       "  'Paris',\n",
       "  'France',\n",
       "  'Melbourne',\n",
       "  'Parkville',\n",
       "  'Australia',\n",
       "  'Pakistan Pakistan',\n",
       "  'Science',\n",
       "  'Korean Medicine',\n",
       "  'Korean Medicine Seoul',\n",
       "  'South',\n",
       "  'Biochemistry Pakistan',\n",
       "  'Science Korean Medicine',\n",
       "  'Korean Medicine Seoul South Korea',\n",
       "  'Singapore',\n",
       "  'Tanshinones Salvia']}"
      ]
     },
     "execution_count": 11,
     "metadata": {},
     "output_type": "execute_result"
    }
   ],
   "source": [
    "def text2locations(text):\n",
    "    try:\n",
    "        return post_json_request(\n",
    "            \"http://localhost:5002/text2locations\",\n",
    "            { \"text\": text }\n",
    "        )\n",
    "    except:\n",
    "        return {\"locations\": []}\n",
    "text2locations(\"Exploration of Targeted Anti-tumor Therapy\\nOpen Access Review\\n\\nAn overview of the anti-cancer actions of Tanshinones, derived\\nfrom Salvia miltiorrhiza (Danshen)\\nIrum Naz1, Myriam Merarchi2, Shanaya Ramchandani3, Muhammad Rashid Khan4*, Muhammad Nouman\\nMalik1, Sumaira Sarwar1, Acharan S Narula5, Kwang Seok Ahn6*\\nDepartment of Biochemistry, Faculty of Biological Sciences, Quaid-i-Azam University, Islamabad 45320, Pakistan\\n\\n1\\n\\nFaculty of Pharmacy, University of Paris Descartes, 75006 Paris, France\\n\\n2\\n\\nDepartment of Pharmacology-Biomedicine, The University of Melbourne, Parkville, VIC 3010, Australia\\n\\n3\\n\\nHigher Education Commission of Pakistan, Islamabad 44000, Pakistan\\n\\n4\\n\\nNarula Research, Chapel Hill, NC 27516, USA\\n\\n5\\n\\nDepartment of Science in Korean Medicine, College of Korean Medicine, Kyung Hee University, 24 Kyungheedae-ro,\\nDongdaemun-gu, Seoul 02447, South Korea\\n6\\n\\n*Correspondence: Muhammad Rashid Khan, Department of Biochemistry, Faculty of Biological Sciences, Quaid-i-Azam\\nUniversity, Islamabad 45320, Pakistan. mrkhanqau@yahoo.com; Kwang Seok Ahn, Department of Science in Korean Medicine,\\nCollege of Korean Medicine, Kyung Hee University, 24 Kyungheedae-ro, Dongdaemun-gu, Seoul 02447, South Korea. ksahn@\\nkhu.ac.kr\\nAcademic Editor: Gautam Sethi, National University of Singapore, Singapore\\nReceived: April 16, 2020 Accepted: May 17, 2020 Published: June 29, 2020\\n\\nCite this article: Naz I, Merarchi M, Ramchandani S, Khan MR, Malik MN, Sarwar S, et al. An overview of the anti-cancer\\nactions of Tanshinones, derived from Salvia miltiorrhiza (Danshen). Explor Target Antitumor Ther. 2020;1:153-70. https://doi.\\norg/10.37349/etat.2020.00010\\n\\n\")"
   ]
  },
  {
   "cell_type": "code",
   "execution_count": 12,
   "id": "935b9eff-4d18-47e0-a76b-7480f79d3857",
   "metadata": {},
   "outputs": [
    {
     "name": "stdout",
     "output_type": "stream",
     "text": [
      "--- 0.9742515087127686 seconds ---\n"
     ]
    },
    {
     "data": {
      "text/plain": [
       "[['Cellular',\n",
       "  'Author',\n",
       "  'Athens',\n",
       "  'Athens Greece',\n",
       "  'Biophysics',\n",
       "  'Biology',\n",
       "  'Athens Athens',\n",
       "  'Greece',\n",
       "  'Cancer',\n",
       "  'Genetics',\n",
       "  'Columbus',\n",
       "  'Columbus Pathology',\n",
       "  'Athens Athens Greece'],\n",
       " ['Bayesian',\n",
       "  'Mathematics',\n",
       "  'Hong Kong',\n",
       "  'Hong Kong China',\n",
       "  'Mathematics Shenzhen',\n",
       "  'China',\n",
       "  'Life',\n",
       "  'Northeastern University',\n",
       "  'China China',\n",
       "  'Chengdu',\n",
       "  'China Ching',\n",
       "  'Bayesian UNITED STATES',\n",
       "  'China Bayesian'],\n",
       " ['Author',\n",
       "  'New Zealand',\n",
       "  'Epidemiology',\n",
       "  'Biostatistics',\n",
       "  'Auckland',\n",
       "  'Auckland New',\n",
       "  'Oncology',\n",
       "  'Oncology Hamilton',\n",
       "  'New',\n",
       "  'NIDEA',\n",
       "  'Demographic',\n",
       "  'Waikato',\n",
       "  'Hamilton'],\n",
       " ['Embase',\n",
       "  'Nursing',\n",
       "  'English',\n",
       "  'Canada',\n",
       "  'Australia',\n",
       "  'Lebanon',\n",
       "  'England',\n",
       "  'Dublin',\n",
       "  'Ireland',\n",
       "  'Dublin Ireland',\n",
       "  'Ireland Irish'],\n",
       " ['England',\n",
       "  'Scotland',\n",
       "  'Mean',\n",
       "  'London',\n",
       "  'Nutrition',\n",
       "  'Health',\n",
       "  'Medicine',\n",
       "  'Brazil',\n",
       "  'Cancer',\n",
       "  'France'],\n",
       " ['Cancer',\n",
       "  'U.S.',\n",
       "  'US',\n",
       "  'Guam',\n",
       "  'Guam Hawai',\n",
       "  'Guam Filipino',\n",
       "  'Guam Filipino Guam',\n",
       "  'Mangilao',\n",
       "  'Honolulu',\n",
       "  'Medicine'],\n",
       " ['AR', 'Author']]"
      ]
     },
     "execution_count": 12,
     "metadata": {},
     "output_type": "execute_result"
    }
   ],
   "source": [
    "start_time = time.time()\n",
    "locations = list(map(lambda text: text2locations(text)[\"locations\"], headers))\n",
    "print(\"--- %s seconds ---\" % (time.time() - start_time))\n",
    "locatio"
   ]
  },
  {
   "cell_type": "code",
   "execution_count": 13,
   "id": "1e7a9755-7440-4c11-89eb-258784bb83d6",
   "metadata": {},
   "outputs": [
    {
     "data": {
      "text/plain": [
       "{'places': ['France',\n",
       "  'Pakistan',\n",
       "  'South Korea',\n",
       "  'Singapore',\n",
       "  'Australia',\n",
       "  'United States of America',\n",
       "  'Canada',\n",
       "  'India',\n",
       "  'Sweden',\n",
       "  'New Zealand',\n",
       "  'Denmark',\n",
       "  'Indonesia']}"
      ]
     },
     "execution_count": 13,
     "metadata": {},
     "output_type": "execute_result"
    }
   ],
   "source": [
    "def text2places(text):\n",
    "    try:\n",
    "        return post_json_request(\n",
    "            \"http://localhost:5002/text2places\",\n",
    "            { \"text\": text }\n",
    "        )\n",
    "    except:\n",
    "        return {\"places\": []}\n",
    "text2places(\"Exploration of Targeted Anti-tumor Therapy\\nOpen Access Review\\n\\nAn overview of the anti-cancer actions of Tanshinones, derived\\nfrom Salvia miltiorrhiza (Danshen)\\nIrum Naz1, Myriam Merarchi2, Shanaya Ramchandani3, Muhammad Rashid Khan4*, Muhammad Nouman\\nMalik1, Sumaira Sarwar1, Acharan S Narula5, Kwang Seok Ahn6*\\nDepartment of Biochemistry, Faculty of Biological Sciences, Quaid-i-Azam University, Islamabad 45320, Pakistan\\n\\n1\\n\\nFaculty of Pharmacy, University of Paris Descartes, 75006 Paris, France\\n\\n2\\n\\nDepartment of Pharmacology-Biomedicine, The University of Melbourne, Parkville, VIC 3010, Australia\\n\\n3\\n\\nHigher Education Commission of Pakistan, Islamabad 44000, Pakistan\\n\\n4\\n\\nNarula Research, Chapel Hill, NC 27516, USA\\n\\n5\\n\\nDepartment of Science in Korean Medicine, College of Korean Medicine, Kyung Hee University, 24 Kyungheedae-ro,\\nDongdaemun-gu, Seoul 02447, South Korea\\n6\\n\\n*Correspondence: Muhammad Rashid Khan, Department of Biochemistry, Faculty of Biological Sciences, Quaid-i-Azam\\nUniversity, Islamabad 45320, Pakistan. mrkhanqau@yahoo.com; Kwang Seok Ahn, Department of Science in Korean Medicine,\\nCollege of Korean Medicine, Kyung Hee University, 24 Kyungheedae-ro, Dongdaemun-gu, Seoul 02447, South Korea. ksahn@\\nkhu.ac.kr\\nAcademic Editor: Gautam Sethi, National University of Singapore, Singapore\\nReceived: April 16, 2020 Accepted: May 17, 2020 Published: June 29, 2020\\n\\nCite this article: Naz I, Merarchi M, Ramchandani S, Khan MR, Malik MN, Sarwar S, et al. An overview of the anti-cancer\\nactions of Tanshinones, derived from Salvia miltiorrhiza (Danshen). Explor Target Antitumor Ther. 2020;1:153-70. https://doi.\\norg/10.37349/etat.2020.00010\\n\\n\")"
   ]
  },
  {
   "cell_type": "code",
   "execution_count": 14,
   "id": "888559a8-2111-45d3-b326-f305983367e1",
   "metadata": {},
   "outputs": [
    {
     "name": "stdout",
     "output_type": "stream",
     "text": [
      "--- 38.82882833480835 seconds ---\n"
     ]
    },
    {
     "data": {
      "text/plain": [
       "[['Greece', 'United States of America', 'Canada', 'Spain'],\n",
       " [\"People's Republic of China\",\n",
       "  'United States of America',\n",
       "  'Japan',\n",
       "  'India',\n",
       "  'Mexico'],\n",
       " ['New Zealand',\n",
       "  'Denmark',\n",
       "  'Canada',\n",
       "  'United States of America',\n",
       "  'United Kingdom',\n",
       "  'Australia',\n",
       "  'Spain',\n",
       "  'Kazakhstan',\n",
       "  'France',\n",
       "  'India'],\n",
       " ['Lebanon',\n",
       "  'Canada',\n",
       "  'Australia',\n",
       "  'Vietnam',\n",
       "  'Ireland',\n",
       "  'United States of America',\n",
       "  'Belarus',\n",
       "  'Netherlands',\n",
       "  'Ukraine'],\n",
       " ['France',\n",
       "  'Cameroon',\n",
       "  'Brazil',\n",
       "  'United Kingdom',\n",
       "  'Canada',\n",
       "  'United States of America',\n",
       "  'Serbia',\n",
       "  'Spain',\n",
       "  'Hungary',\n",
       "  'Portugal',\n",
       "  'Indonesia',\n",
       "  'Ukraine'],\n",
       " ['United States of America', 'India', 'Spain', 'Japan'],\n",
       " ['Argentina']]"
      ]
     },
     "execution_count": 14,
     "metadata": {},
     "output_type": "execute_result"
    }
   ],
   "source": [
    "start_time = time.time()\n",
    "places = list(map(lambda text: text2places(text)[\"places\"], headers))\n",
    "print(\"--- %s seconds ---\" % (time.time() - start_time))\n",
    "places"
   ]
  },
  {
   "cell_type": "code",
   "execution_count": 15,
   "id": "f7798730-ae6a-4f07-b40e-0395f5aec0d3",
   "metadata": {},
   "outputs": [
    {
     "data": {
      "text/plain": [
       "{'emails': ['mrkhanqau@yahoo.com']}"
      ]
     },
     "execution_count": 15,
     "metadata": {},
     "output_type": "execute_result"
    }
   ],
   "source": [
    "def text2emails(text):\n",
    "    try:\n",
    "        return post_json_request(\n",
    "            \"http://localhost:5002/text2emails\",\n",
    "            { \"text\": text }\n",
    "        )\n",
    "    except:\n",
    "        return {\"emails\": []}\n",
    "text2emails(\"Exploration of Targeted Anti-tumor Therapy\\nOpen Access Review\\n\\nAn overview of the anti-cancer actions of Tanshinones, derived\\nfrom Salvia miltiorrhiza (Danshen)\\nIrum Naz1, Myriam Merarchi2, Shanaya Ramchandani3, Muhammad Rashid Khan4*, Muhammad Nouman\\nMalik1, Sumaira Sarwar1, Acharan S Narula5, Kwang Seok Ahn6*\\nDepartment of Biochemistry, Faculty of Biological Sciences, Quaid-i-Azam University, Islamabad 45320, Pakistan\\n\\n1\\n\\nFaculty of Pharmacy, University of Paris Descartes, 75006 Paris, France\\n\\n2\\n\\nDepartment of Pharmacology-Biomedicine, The University of Melbourne, Parkville, VIC 3010, Australia\\n\\n3\\n\\nHigher Education Commission of Pakistan, Islamabad 44000, Pakistan\\n\\n4\\n\\nNarula Research, Chapel Hill, NC 27516, USA\\n\\n5\\n\\nDepartment of Science in Korean Medicine, College of Korean Medicine, Kyung Hee University, 24 Kyungheedae-ro,\\nDongdaemun-gu, Seoul 02447, South Korea\\n6\\n\\n*Correspondence: Muhammad Rashid Khan, Department of Biochemistry, Faculty of Biological Sciences, Quaid-i-Azam\\nUniversity, Islamabad 45320, Pakistan. mrkhanqau@yahoo.com; Kwang Seok Ahn, Department of Science in Korean Medicine,\\nCollege of Korean Medicine, Kyung Hee University, 24 Kyungheedae-ro, Dongdaemun-gu, Seoul 02447, South Korea. ksahn@\\nkhu.ac.kr\\nAcademic Editor: Gautam Sethi, National University of Singapore, Singapore\\nReceived: April 16, 2020 Accepted: May 17, 2020 Published: June 29, 2020\\n\\nCite this article: Naz I, Merarchi M, Ramchandani S, Khan MR, Malik MN, Sarwar S, et al. An overview of the anti-cancer\\nactions of Tanshinones, derived from Salvia miltiorrhiza (Danshen). Explor Target Antitumor Ther. 2020;1:153-70. https://doi.\\norg/10.37349/etat.2020.00010\\n\\n\")"
   ]
  },
  {
   "cell_type": "code",
   "execution_count": 16,
   "id": "12578c93-ca5d-4a09-a497-2530c27a673d",
   "metadata": {},
   "outputs": [
    {
     "name": "stdout",
     "output_type": "stream",
     "text": [
      "--- 0.04236745834350586 seconds ---\n"
     ]
    },
    {
     "data": {
      "text/plain": [
       "[['nsimigdala@bioacademy.gr',\n",
       "  'konstantopoulos@fleming.gr',\n",
       "  'aklinakis@bioacademy.gr',\n",
       "  'itrougakos@biol.uoa.gr',\n",
       "  'achalari@bioacademy.gr',\n",
       "  'asklirou@biol.uoa.gr',\n",
       "  'echavdoula@gmail.com',\n",
       "  'geo.papafotiou@gmail.com',\n",
       "  'pmelissa@bioacademy.gr',\n",
       "  'akafalidou@bioacademy.gr',\n",
       "  'npaschal@bioacademy.gr',\n",
       "  'ipateras@med.uoa.gr',\n",
       "  'mathan@bioacademy.gr'],\n",
       " ['yushanqiu2526374@163.com'],\n",
       " ['o.scott@auckland.ac.nz'],\n",
       " ['kathleen.frazer@ucd.ie'],\n",
       " ['chu-mei.chang@imperial.ac.uk'],\n",
       " ['monicake@hawaii.edu',\n",
       "  'kristimh@hawaii.edu',\n",
       "  'taflague@triton.uog.edu',\n",
       "  'bernice7@hawaii.edu',\n",
       "  'kaholoku@hawaii.edu'],\n",
       " ['zhanglei6@hrbmu.edu.cn']]"
      ]
     },
     "execution_count": 16,
     "metadata": {},
     "output_type": "execute_result"
    }
   ],
   "source": [
    "start_time = time.time()\n",
    "emails = list(map(lambda text: text2emails(text)[\"emails\"], headers))\n",
    "print(\"--- %s seconds ---\" % (time.time() - start_time))\n",
    "emails"
   ]
  },
  {
   "cell_type": "code",
   "execution_count": 17,
   "id": "dd793f2a-f010-4c90-bd4c-9d3af6a9f4f4",
   "metadata": {},
   "outputs": [
    {
     "name": "stdout",
     "output_type": "stream",
     "text": [
      "False\n"
     ]
    }
   ],
   "source": [
    "# pip3 install python-whois\n",
    "import whois\n",
    "\n",
    "def is_registered(domain_name):\n",
    "    try:\n",
    "        w = whois.whois(domain_name)\n",
    "    except Exception:\n",
    "        return False\n",
    "    else:\n",
    "        return bool(w.domain_name)\n",
    "\n",
    "domain_name = \"med.toho‑u.ac.jp\"\n",
    "if is_registered(domain_name):\n",
    "    whois_info = whois.whois(domain_name)\n",
    "    print(whois_info)\n",
    "    \n",
    "print(is_registered(domain_name))"
   ]
  },
  {
   "cell_type": "code",
   "execution_count": 18,
   "id": "9afdf5f7-4ca8-48cd-9c74-4625ab12fe64",
   "metadata": {},
   "outputs": [
    {
     "name": "stderr",
     "output_type": "stream",
     "text": [
      "\u001b[94m{\u001b[32m'参考'\u001b[91m: \u001b[32m'IPアドレスのWHOISサーバ'\u001b[91m,\n",
      "\u001b[32m '詳しくは HTTPS'\u001b[91m: \u001b[32m'//jprs.jp/about/dom-search/jprs-whois/ を参照してください。'\u001b[94m}\u001b[32m\u001b[0m\n",
      "\u001b[32m─┬ \u001b[95mroot\n",
      "\u001b[32m \u001b[32m├───┬ \u001b[95m詳しくは HTTPS\n",
      "\u001b[32m \u001b[32m│   \u001b[32m└──── \u001b[95m//jprs.jp/about/dom-search/jprs-whois/ を参照してください。\n",
      "\u001b[32m \u001b[32m└───┬ \u001b[95m参考\n",
      "\u001b[32m \u001b[32m    \u001b[32m└──── \u001b[95mIPアドレスのWHOISサーバ\n",
      "\u001b[0m\n"
     ]
    },
    {
     "name": "stdout",
     "output_type": "stream",
     "text": [
      "[ JPRS database provides information on network administration. Its use is    ]\n",
      "[ restricted to network administration purposes. For further information,     ]\n",
      "[ use 'whois -h whois.jprs.jp help'. To suppress Japanese output, add'/e'     ]\n",
      "[ at the end of command, e.g. 'whois -h whois.jprs.jp xxx/e'.                 ]\n",
      "\n",
      "No match!!\n",
      "\n",
      "JPRS WHOISは、JPRSが管理している以下のドメイン名に関する情報を確認でき\n",
      "るサービスです。\n",
      "    ・登録されているJPドメイン名\n",
      "    ・JPRSを管理レジストラとするgTLD等ドメイン名\n",
      "詳しくは https://jprs.jp/about/dom-search/jprs-whois/ を参照してください。\n",
      "\n",
      "参考: IPアドレスのWHOISサーバ\n",
      "   ・JPNIC WHOIS(whois.nic.ad.jp)\n",
      "   ・APNIC WHOIS(whois.apnic.net)\n",
      "   ・ARIN WHOIS(whois.arin.net)\n",
      "   ・RIPE WHOIS(whois.ripe.net)\n",
      "   ・LACNIC WHOIS(whois.lacnic.net)\n",
      "   ・AfriNIC WHOIS(whois.afrinic.net)\n",
      "\n",
      "\n",
      "Creation date   : \n",
      "Expiration date : \n",
      "Updated date    : \n"
     ]
    }
   ],
   "source": [
    "# First step is to import the package\n",
    "import whois21\n",
    "\n",
    "query = 'med.toho‑u.ac.jp'\n",
    "\n",
    "# Second step is to create an instance of the WHOIS class\n",
    "whois = whois21.WHOIS(query)\n",
    "\n",
    "# Third step is to check if the operation was successful\n",
    "if not whois.success:\n",
    "    print(whois.error)\n",
    "    exit()\n",
    "\n",
    "# And basically you are done!\n",
    "# Now you can print the results\n",
    "import log21  # I use log21 to print the results in a cool way 8D\n",
    "\n",
    "# Print the results in a nice way\n",
    "# PPrint the dictionary\n",
    "log21.pprint(whois.whois_data)\n",
    "# Tree-Print the dictionary\n",
    "log21.tree_print(whois.whois_data)\n",
    "\n",
    "# Or you can print the results in as raw text\n",
    "print(whois.raw.decode('utf-8'))\n",
    "\n",
    "# Or you can access each part of the results individually\n",
    "print(f'Creation date   : {whois.creation_date}')\n",
    "print(f'Expiration date : {whois.expires_date}')\n",
    "print(f'Updated date    : {whois.updated_date}')"
   ]
  },
  {
   "cell_type": "code",
   "execution_count": 19,
   "id": "2318fd68-d5fc-4db9-b4f8-8abb4e272277",
   "metadata": {},
   "outputs": [
    {
     "name": "stdout",
     "output_type": "stream",
     "text": [
      "[ JPRS database provides information on network administration. Its use is    ]\n",
      "[ restricted to network administration purposes. For further information,     ]\n",
      "[ use 'whois -h whois.jprs.jp help'. To suppress Japanese output, add'/e'     ]\n",
      "[ at the end of command, e.g. 'whois -h whois.jprs.jp xxx/e'.                 ]\n",
      "\n",
      "No match!!\n",
      "\n",
      "JPRS WHOISは、JPRSが管理している以下のドメイン名に関する情報を確認でき\n",
      "るサービスです。\n",
      "    ・登録されているJPドメイン名\n",
      "    ・JPRSを管理レジストラとするgTLD等ドメイン名\n",
      "詳しくは https://jprs.jp/about/dom-search/jprs-whois/ を参照してください。\n",
      "\n",
      "参考: IPアドレスのWHOISサーバ\n",
      "   ・JPNIC WHOIS(whois.nic.ad.jp)\n",
      "   ・APNIC WHOIS(whois.apnic.net)\n",
      "   ・ARIN WHOIS(whois.arin.net)\n",
      "   ・RIPE WHOIS(whois.ripe.net)\n",
      "   ・LACNIC WHOIS(whois.lacnic.net)\n",
      "   ・AfriNIC WHOIS(whois.afrinic.net)\n",
      "\n",
      "\n"
     ]
    }
   ],
   "source": [
    "import whois11\n",
    "\n",
    "print(whois11.whois('med.toho‑u.ac.jp'))"
   ]
  },
  {
   "cell_type": "code",
   "execution_count": 20,
   "id": "132321a3-c5ce-49f1-9fa2-6506abc69aa7",
   "metadata": {},
   "outputs": [],
   "source": [
    "import pdftotext\n",
    "import io\n",
    "from urllib.request import (\n",
    "    Request,\n",
    "    urlopen,\n",
    ")\n",
    "def file_download(url):\n",
    "    req = Request(url, headers={\"User-Agent\": \"Mozilla/5.0\"})\n",
    "    pdf_pages = pdftotext.PDF(io.BytesIO(urlopen(req).read()))\n",
    "    return pdf_pages\n",
    "    \n",
    "def text_from_pdf_bytes(pdf_bytes):\n",
    "    pdf_text = pdftotext.PDF(io.BytesIO(urlopen(req).read()))\n",
    "    return \"\\n\\n\".join(pdf_text)\n",
    "\n",
    "def head_extract(pdf_bytes):\n",
    "    text = text_from_pdf_file(path)\n",
    "    abstract_pos = re.search(r\"[aA]bstract\", text)\n",
    "    return text[: abstract_pos.start(0) if abstract_pos else 10000]"
   ]
  },
  {
   "cell_type": "code",
   "execution_count": 21,
   "id": "a768bdcc-07b2-4c6c-8ff2-d1159bcbcd97",
   "metadata": {},
   "outputs": [],
   "source": [
    "pdf_pages = file_download(\"http://europepmc.org/backend/ptpmcrender.fcgi?accid=PMC9983066&blobtype=pdf\")"
   ]
  },
  {
   "cell_type": "code",
   "execution_count": 22,
   "id": "6f9f3664-7e98-4180-b979-dcadf1c9f2c8",
   "metadata": {},
   "outputs": [
    {
     "data": {
      "text/plain": [
       "8"
      ]
     },
     "execution_count": 22,
     "metadata": {},
     "output_type": "execute_result"
    }
   ],
   "source": [
    "len(pdf_pages)"
   ]
  },
  {
   "cell_type": "code",
   "execution_count": 23,
   "id": "ce247c33-fbd0-4f84-9694-148a74c7fe68",
   "metadata": {},
   "outputs": [
    {
     "data": {
      "text/plain": [
       "'                                                 MEDICINE INTERNATIONAL 3: 11, 2023\\n           The combination of positive anti‑WDR1 antibodies with\\n       negative anti‑CFL1 antibodies in serum is a poor prognostic\\n                      factor for patients with esophageal carcinoma\\n          MASAAKI ITO1, SATOSHI YAJIMA2, TAKASHI SUZUKI2, YOKO OSHIMA2, TATSUKI NANAMI2,\\n      MAKOTO SUMAZAKI2, FUMIAKI SHIRATORI2, HAO WANG3,4, LIUBING HU4, HIROTAKA TAKIZAWA5,\\n                  SHU‑YANG LI6, YASUO IWADATE6, TAKAKI HIWASA1,6 and HIDEAKI SHIMADA1,2\\n1\\n  Department of Clinical Oncology, Toho University Graduate School of Medicine; 2Department of Gastroenterological Surgery,\\n  Toho University School of Medicine, Tokyo 143‑8541, Japan; 3Stroke Center, The First Affiliated Hospital, Jinan University;\\n    4\\n      Department of Anesthesiology, Stroke Center, The First Affiliated Hospital and Health Science Center, Jinan University,\\n        Guangzhou, Guangdong 510630, P.R. China; 5Port Square Kashiwado Clinic, Kashiwado Memorial Foundation,\\n  Chiba 260‑0025; 6Department of Neurological Surgery, Graduate School of Medicine, Chiba University, Chiba 260‑8670, Japan\\n                                       Received October 8, 2022; Accepted January 23, 2023\\n                                                        DOI: 10.3892/mi.2023.71\\nAbstract. WD repeat‑containing protein 1 (WDR1) regulates            s‑WDR1‑Abs or s‑CFL1‑Abs alone in the Kaplan‑Meier test,\\nthe cofilin 1 (CFL1) activity, promotes cytoskeleton remod‑          the patients in the s‑WDR1‑Ab‑positive and s‑CFL1‑Ab‑nega‑\\neling, and thus, facilitates cell migration and invasion. A          tive groups exhibited a significantly poorer prognosis in the\\nprevious study reported that autoantibodies against CFL1 and         overall survival analysis. On the whole, the present study\\nβ‑actin were useful biomarkers for diagnosing and predicting         demonstrates that the combination of positive anti‑WDR1 anti‑\\nthe prognosis of patients with esophageal carcinoma.                 bodies with negative anti‑CFL1 antibodies in serum may be a\\nTherefore, the present study aimed to evaluate the serum             poor prognostic factor for patients with esophageal carcinoma.\\nlevels of anti‑WDR1 antibodies (s‑WDR1‑Abs) combined\\nwith serum levels of anti‑CFL1 antibodies (s‑CFL1‑Abs) in            Introduction\\npatients with esophageal carcinoma. Serum samples obtained\\nfrom 192 patients with esophageal carcinoma and other solid          Esophageal carcinoma is a rapidly progressive disease and\\ncancers. And s‑WDR1‑Ab and s‑CFL1‑Ab titers were analyzed            is life‑threatening even at the early stages. The therapeutic\\nusing the amplified luminescent proximity homogeneous                efficacy of esophageal carcinoma is less satisfactory than that\\nassay‑linked immunosorbent assay. Compared with those                of several other types of cancer; therefore, the detection and\\nof healthy donors, the s‑WDR1‑Ab levels were significantly           diagnosis at the early stage of carcinoma are indispensable for\\nhigher in the 192 patients with esophageal, whereas these            improving the therapeutic outcomes of patients (1).\\nwere not significantly higher in the samples from patients with          The serum levels of several antigens and antibodies have\\ngastric, colorectal, lung, or breast cancer. In 91 patients treated  long been measured using the serological analysis of recom‑\\nwith surgery, sex, tumor depth, lymph node metastasis, stage         binant tumor cDNA expression libraries (SEREX) method, a\\nand C‑reactive protein levels were significantly associated          useful screening method for tumor markers (2). SEREX uses\\nwith overall survival, as determined using the log‑rank test,        patient serum to immunoscreen cDNA libraries prepared from\\nwhereas the squamous cell carcinoma antigen, p53 antibody            cancer specimens. By sequencing the isolated cDNA clones,\\nand s‑WDR1‑Ab levels tended to be associated with a worse            the SEREX method is suitable as for the large‑scale screening\\nprognosis. Although no significant difference was observed           for tumor antigens. Large‑scale SEREX screening has already\\nin the survival between the positive and negative groups of          identified numerous antibodies or antigens, such as trophoblast\\n                                                                     cell surface antigen 2 (3), solute carrier family 2 member 1 (4),\\n                                                                     striatin 4 (5), LDL receptor related protein associated protein\\n                                                                     1 (6), proprotein convertase subtilisin/kexin type 9 (7), cofilin\\nCorrespondence to: Dr Hideaki Shimada, Department of                 1 (CFL1) and β ‑actin (ACTB) (8). CFL1 can depolymerize\\nGastroenterological Surgery, Toho University School of Medicine,     F‑actin in a pH‑dependent manner and is also involved in lung,\\n6‑11‑1 Omori‑Nishi, Ota‑ku, Tokyo 143‑8541, Japan                    pancreatic, and gastric cancer invasion and metastasis (9‑11).\\nE‑mail: hideaki.shimada@med.toho‑u.ac.jp                                 WD repeat‑containing protein 1 (WDR1; also known as\\n                                                                     actin‑interacting protein 1) regulates cofilin activity, promotes\\nKey words: WD repeat‑containing protein 1, cofilin 1, esophageal     cytoskeletal remodeling, and thus facilitates cell migration and\\ncarcinoma, antibody biomarker, overall survival                      invasion (12). The presence of autoantibodies against WDR1\\n                                                                     has been found in the sera of patients who have suffered a\\n                                                                     transient ischemic attack using SEREX screening (13). The\\n'"
      ]
     },
     "execution_count": 23,
     "metadata": {},
     "output_type": "execute_result"
    }
   ],
   "source": [
    "pdf_pages[0]"
   ]
  },
  {
   "cell_type": "code",
   "execution_count": 24,
   "id": "2439d128-fead-4ddd-9f8c-7baefbb158d3",
   "metadata": {},
   "outputs": [
    {
     "name": "stdout",
     "output_type": "stream",
     "text": [
      "['https://www.toho-u.ac.jp/med/', 'https://search.ebscohost.com/login.aspx?direct=true&profile=ehost&scope=site&authtype=crawler&jrnl=14777819&AN=132477015&h=olj3V%2BBJE0BYK45ZMWkpuUoibzH1V%2FC67AuiTULKlYJSl%2FNxaFT7TiGamATmdbzft2HM%2BHw54uJ1fLEZYHlgyw%3D%3D&crl=c', 'https://www.residentnavi.com/hospitals/1344', 'https://www.chusho.meti.go.jp/sapoin/index.php/application/research/detail/206', 'https://tohobiochemi.jp/member/index.html', 'https://www.mhlw.go.jp/shingi/2009/04/dl/s0423-7d_0002.pdf', 'https://www.toho-u-kyumei99.jp/recruit/', 'https://pubmed.ncbi.nlm.nih.gov/33214049/', 'https://hiv-hospital.jp/list/K117/', 'http://www.toho-kai.jp/', 'https://www.instagram.com/toho_med/']\n"
     ]
    }
   ],
   "source": [
    "from googlesearch import search \n",
    "\n",
    "list_of_queries = [\"med.toho‑u.ac.jp\"]\n",
    "results = []\n",
    "\n",
    "for query in list_of_queries:\n",
    "    results.extend(list(search(query, num_results=10)))\n",
    "\n",
    "print(results)"
   ]
  },
  {
   "cell_type": "code",
   "execution_count": null,
   "id": "28ed1818-cf94-467c-93a5-9e4cba826802",
   "metadata": {},
   "outputs": [],
   "source": []
  }
 ],
 "metadata": {
  "kernelspec": {
   "display_name": "Python 3 (ipykernel)",
   "language": "python",
   "name": "python3"
  },
  "language_info": {
   "codemirror_mode": {
    "name": "ipython",
    "version": 3
   },
   "file_extension": ".py",
   "mimetype": "text/x-python",
   "name": "python",
   "nbconvert_exporter": "python",
   "pygments_lexer": "ipython3",
   "version": "3.8.10"
  }
 },
 "nbformat": 4,
 "nbformat_minor": 5
}
